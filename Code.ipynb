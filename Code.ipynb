{
 "cells": [
  {
   "cell_type": "markdown",
   "metadata": {
    "colab_type": "text",
    "id": "ptxNE_yZkRWi"
   },
   "source": [
    "#1. Install and Import"
   ]
  },
  {
   "cell_type": "code",
   "execution_count": null,
   "metadata": {
    "colab": {
     "base_uri": "https://localhost:8080/",
     "height": 221
    },
    "colab_type": "code",
    "executionInfo": {
     "elapsed": 10448,
     "status": "ok",
     "timestamp": 1575414663669,
     "user": {
      "displayName": "DISPLAYNAME",
      "photoUrl": "PHOTOURL",
      "userId": "USERID"
     },
     "user_tz": 0
    },
    "id": "-ou8SX4qqLqs",
    "outputId": "ef11a6c6-45da-4552-e198-7cabf3a71866"
   },
   "outputs": [],
   "source": [
    "#run_in = 'local'\n",
    "run_in = 'colab'\n",
    "\n",
    "if run_in == 'local':\n",
    "    import csv\n",
    "    import os\n",
    "    import pandas as pd\n",
    "    import numpy as np\n",
    "    import tweepy\n",
    "    import datetime\n",
    "      \n",
    "if run_in == 'colab':\n",
    "    !pip install xlrd\n",
    "    !pip install XlsxWriter\n",
    "    !pip install tweepy\n",
    "    import csv\n",
    "    import os\n",
    "    import pandas as pd\n",
    "    import numpy as np\n",
    "    import tweepy\n",
    "    import datetime"
   ]
  },
  {
   "cell_type": "markdown",
   "metadata": {
    "colab_type": "text",
    "id": "HjlQ7kzWHG3b"
   },
   "source": [
    "##<p><font color=\"red\">Define Version number!</font></p>"
   ]
  },
  {
   "cell_type": "code",
   "execution_count": null,
   "metadata": {
    "colab": {},
    "colab_type": "code",
    "id": "1v-HBQr-HGli"
   },
   "outputs": [],
   "source": [
    "version_id = 'V14'\n",
    "snap_date = '2019-06-02'"
   ]
  },
  {
   "cell_type": "markdown",
   "metadata": {
    "colab_type": "text",
    "id": "Jue9bx_SWycg"
   },
   "source": [
    "#2. Define your personal path to the folder we will work in\n",
    "\n",
    "We expect an xlsx file with multiple sheets"
   ]
  },
  {
   "cell_type": "code",
   "execution_count": null,
   "metadata": {
    "colab": {
     "base_uri": "https://localhost:8080/",
     "height": 612
    },
    "colab_type": "code",
    "executionInfo": {
     "elapsed": 10424,
     "status": "ok",
     "timestamp": 1575414663670,
     "user": {
      "displayName": "DISPLAYNAME",
      "photoUrl": "PHOTOURL",
      "userId": "USERID"
     },
     "user_tz": 0
    },
    "id": "8JJCbPSYWkWk",
    "outputId": "f6d9ccd5-3543-4cfb-ece2-6f7ad598012f"
   },
   "outputs": [],
   "source": [
    "if run_in == 'local':\n",
    "  base_path = \"/users/USERNAME/Google Drive/USERNAME/\"\n",
    "if run_in == 'colab':\n",
    "  base_path = \"/content/drive/My Drive/USERNAME/\"\n",
    "  from google.colab import drive\n",
    "  drive.mount('/content/drive')\n",
    "  \n",
    "print('base_path set to:')\n",
    "print(base_path)\n",
    "\n",
    "version_path = os.path.join(base_path + \"Pitchbook_Crunchbase_Tracxn_Raw/Don't touch \" + version_id + \"/\")\n",
    "os.listdir(version_path)"
   ]
  },
  {
   "cell_type": "markdown",
   "metadata": {
    "colab_type": "text",
    "id": "EtDZGyHseWJn"
   },
   "source": [
    "#3. Define dictionaries"
   ]
  },
  {
   "cell_type": "code",
   "execution_count": null,
   "metadata": {
    "colab": {
     "base_uri": "https://localhost:8080/",
     "height": 173
    },
    "colab_type": "code",
    "executionInfo": {
     "elapsed": 48293,
     "status": "ok",
     "timestamp": 1575414701558,
     "user": {
      "displayName": "DISPLAYNAME",
      "photoUrl": "PHOTOURL",
      "userId": "USERID"
     },
     "user_tz": 0
    },
    "id": "YvW_CKMgCEPp",
    "outputId": "5ed26de3-4e8f-4ac6-da63-5a5778a2080b"
   },
   "outputs": [],
   "source": [
    "df_twitter_handle_dict = pd.read_excel(base_path + \"Pitchbook_Crunchbase_Tracxn_Raw/Don't touch \" + version_id + \"/\" + version_id + \"_Pitchbook_Crunchbase_Tracxn_Database Crunchbase funding added.xlsx\" , version_id + '_twitter_handle_modifiers', header=None, skiprows=0, names=['company_name','twitter_handle'], usecols=\"A,B\")\n",
    "df_twitter_handle_dict['company_name'] = df_twitter_handle_dict['company_name'].str.replace(r\"\\(.*\\)\",\"\")\n",
    "df_twitter_handle_dict['company_name'] = df_twitter_handle_dict['company_name'].str.replace(\"ltd.\",\"\")\n",
    "df_twitter_handle_dict['company_name'] = df_twitter_handle_dict['company_name'].str.replace(\"ltd\",\"\")\n",
    "df_twitter_handle_dict['company_name'] = df_twitter_handle_dict['company_name'].str.replace(\"Ltd.\",\"\")\n",
    "df_twitter_handle_dict['company_name'] = df_twitter_handle_dict['company_name'].str.replace(\"Ltd\",\"\")\n",
    "df_twitter_handle_dict['company_name'] = df_twitter_handle_dict['company_name'].str.replace('Limited','')\n",
    "df_twitter_handle_dict['company_name'] = df_twitter_handle_dict['company_name'].str.replace(\"The Mobile AR Marketing Platform\",\"\")\n",
    "df_twitter_handle_dict['company_name'] = df_twitter_handle_dict['company_name'].str.lower()\n",
    "df_twitter_handle_dict.replace('^\\s+', '', regex=True, inplace=True) #front #Clean front and end spaces:\n",
    "df_twitter_handle_dict.replace('\\s+$', '', regex=True, inplace=True) #end #Clean front and end spaces:\n",
    "df_twitter_handle_dict['twitter_handle'] = df_twitter_handle_dict['twitter_handle'].str.replace('http:','')\n",
    "df_twitter_handle_dict['twitter_handle'] = df_twitter_handle_dict['twitter_handle'].str.replace('https:','')\n",
    "df_twitter_handle_dict['twitter_handle'] = df_twitter_handle_dict['twitter_handle'].str.replace('/','')\n",
    "df_twitter_handle_dict['twitter_handle'] = df_twitter_handle_dict['twitter_handle'].str.replace('?','')\n",
    "df_twitter_handle_dict['twitter_handle'] = df_twitter_handle_dict['twitter_handle'].str.replace('www.','')\n",
    "df_twitter_handle_dict['twitter_handle'] = df_twitter_handle_dict['twitter_handle'].str.replace('twitter.com','')\n",
    "df_twitter_handle_dict['twitter_handle'] = df_twitter_handle_dict['twitter_handle'].str.replace('@','')\n",
    "df_twitter_handle_dict['twitter_handle'] = df_twitter_handle_dict['twitter_handle'].str.replace('lang=en-gb','')\n",
    "df_twitter_handle_dict['twitter_handle'] = df_twitter_handle_dict['twitter_handle'].str.replace('lang=bg','')\n",
    "df_twitter_handle_dict['twitter_handle'] = df_twitter_handle_dict['twitter_handle'].str.replace('lang=en','')\n",
    "df_twitter_handle_dict['twitter_handle'] = df_twitter_handle_dict['twitter_handle'].str.replace('lang=ko','')\n",
    "df_twitter_handle_dict['twitter_handle'] = df_twitter_handle_dict['twitter_handle'].str.replace('searchq=','')\n",
    "df_twitter_handle_dict['twitter_handle'] = df_twitter_handle_dict['twitter_handle'].str.replace('Not Functioning','')\n",
    "df_twitter_handle_dict['twitter_handle'] = df_twitter_handle_dict['twitter_handle'].str.lower()\n",
    "df_twitter_handle_dict = df_twitter_handle_dict.drop_duplicates('company_name')\n",
    "\n",
    "df_website_url_dict = pd.read_excel(base_path + \"Pitchbook_Crunchbase_Tracxn_Raw/Don't touch \" + version_id + \"/\" + version_id + \"_Pitchbook_Crunchbase_Tracxn_Database Crunchbase funding added.xlsx\" , version_id + '_website_url_modifiers', header=None, skiprows=0, names=['company_name','website_url'], usecols=\"A,B\")\n",
    "df_website_url_dict['company_name'] = df_website_url_dict['company_name'].str.replace(r\"\\(.*\\)\",\"\")\n",
    "df_website_url_dict['company_name'] = df_website_url_dict['company_name'].str.replace(\"ltd.\",\"\")\n",
    "df_website_url_dict['company_name'] = df_website_url_dict['company_name'].str.replace(\"ltd\",\"\")\n",
    "df_website_url_dict['company_name'] = df_website_url_dict['company_name'].str.replace(\"Ltd.\",\"\")\n",
    "df_website_url_dict['company_name'] = df_website_url_dict['company_name'].str.replace(\"Ltd\",\"\")\n",
    "df_website_url_dict['company_name'] = df_website_url_dict['company_name'].str.replace('Limited','')\n",
    "df_website_url_dict['company_name'] = df_website_url_dict['company_name'].str.replace(\"The Mobile AR Marketing Platform\",\"\")\n",
    "df_website_url_dict['company_name'] = df_website_url_dict['company_name'].str.lower()\n",
    "df_website_url_dict.replace('^\\s+', '', regex=True, inplace=True) #front #Clean front and end spaces:\n",
    "df_website_url_dict.replace('\\s+$', '', regex=True, inplace=True) #end #Clean front and end spaces:\n",
    "df_website_url_dict['website_url'] = df_website_url_dict['website_url'].str.replace('http:','')\n",
    "df_website_url_dict['website_url'] = df_website_url_dict['website_url'].str.replace('https:','')\n",
    "df_website_url_dict['website_url'] = df_website_url_dict['website_url'].str.replace('/','')\n",
    "df_website_url_dict['website_url'] = df_website_url_dict['website_url'].str.replace('www.','')\n",
    "df_website_url_dict = df_website_url_dict.drop_duplicates('company_name')   \n",
    "\n",
    "df_company_name_dict = pd.read_excel(base_path + \"Pitchbook_Crunchbase_Tracxn_Raw/Don't touch \" + version_id + \"/\" + version_id + \"_Pitchbook_Crunchbase_Tracxn_Database Crunchbase funding added.xlsx\" , version_id + '_company_name_modifiers', header=None, skiprows=0, names=['company_name','company_name_changed'], usecols=\"A,B\")\n",
    "df_company_name_dict['company_name'] = df_company_name_dict['company_name'].str.replace(r\"\\(.*\\)\",\"\")\n",
    "df_company_name_dict['company_name'] = df_company_name_dict['company_name'].str.replace(\"ltd.\",\"\")\n",
    "df_company_name_dict['company_name'] = df_company_name_dict['company_name'].str.replace(\"ltd\",\"\")\n",
    "df_company_name_dict['company_name'] = df_company_name_dict['company_name'].str.replace(\"Ltd.\",\"\")\n",
    "df_company_name_dict['company_name'] = df_company_name_dict['company_name'].str.replace(\"Ltd\",\"\")\n",
    "df_company_name_dict['company_name'] = df_company_name_dict['company_name'].str.replace('Limited','')\n",
    "df_company_name_dict['company_name'] = df_company_name_dict['company_name'].str.replace(\"The Mobile AR Marketing Platform\",\"\")\n",
    "df_company_name_dict['company_name'] = df_company_name_dict['company_name'].str.lower()\n",
    "df_company_name_dict['company_name_changed'] = df_company_name_dict['company_name_changed'].str.lower()\n",
    "df_company_name_dict.replace('^\\s+', '', regex=True, inplace=True) #front #Clean front and end spaces:\n",
    "df_company_name_dict.replace('\\s+$', '', regex=True, inplace=True) #end #Clean front and end spaces:\n",
    "df_company_name_dict = df_company_name_dict.drop_duplicates('company_name')\n",
    "\n",
    "df_dropper = pd.read_excel(base_path + \"Pitchbook_Crunchbase_Tracxn_Raw/Don't touch \" + version_id + \"/\" + version_id + \"_Pitchbook_Crunchbase_Tracxn_Database Crunchbase funding added.xlsx\" , version_id + '_dropper', header=None, skiprows=0, names=['company_name','dropper'], usecols=\"A,B\")\n",
    "df_dropper['company_name'] = df_dropper['company_name'].str.replace(r\"\\(.*\\)\",\"\")\n",
    "df_dropper['company_name'] = df_dropper['company_name'].str.replace(\"ltd.\",\"\")\n",
    "df_dropper['company_name'] = df_dropper['company_name'].str.replace(\"ltd\",\"\")\n",
    "df_dropper['company_name'] = df_dropper['company_name'].str.replace(\"Ltd.\",\"\")\n",
    "df_dropper['company_name'] = df_dropper['company_name'].str.replace(\"Ltd\",\"\")\n",
    "df_dropper['company_name'] = df_dropper['company_name'].str.replace('Limited','')\n",
    "df_dropper['company_name'] = df_dropper['company_name'].str.replace(\"The Mobile AR Marketing Platform\",\"\")\n",
    "df_dropper['company_name'] = df_dropper['company_name'].str.lower()\n",
    "df_dropper.replace('^\\s+', '', regex=True, inplace=True) #front #Clean front and end spaces:\n",
    "df_dropper.replace('\\s+$', '', regex=True, inplace=True) #end #Clean front and end spaces:\n",
    "df_dropper = df_dropper.drop_duplicates('company_name')   \n",
    "\n",
    "df_event = pd.read_excel(base_path + \"Pitchbook_Crunchbase_Tracxn_Raw/Don't touch \" + version_id + \"/\" + version_id + \"_Pitchbook_Crunchbase_Tracxn_Database Crunchbase funding added.xlsx\" , version_id + '_event', skiprows=0, usecols=\"A,B\")\n",
    "df_namechange_flags = pd.read_excel(base_path + \"Pitchbook_Crunchbase_Tracxn_Raw/Don't touch \" + version_id + \"/\" + version_id + \"_Pitchbook_Crunchbase_Tracxn_Database Crunchbase funding added.xlsx\" , version_id + '_namechange_flags', skiprows=0, usecols=\"A,B\")\n",
    "\n",
    "twitter_dict = df_twitter_handle_dict.set_index('company_name').to_dict('dict')\n",
    "twitter_dict = twitter_dict['twitter_handle']\n",
    "print('\\033[1m' + 'twitter_dict:' + '\\033[0m')\n",
    "print(twitter_dict)\n",
    "\n",
    "website_url_dict = df_website_url_dict.set_index('company_name').to_dict('dict')\n",
    "website_url_dict = website_url_dict['website_url']\n",
    "print('\\033[1m' + 'website_url_dict:' + '\\033[0m')\n",
    "print(website_url_dict)\n",
    "\n",
    "company_name_dict = df_company_name_dict.set_index('company_name').to_dict('dict')\n",
    "company_name_dict = company_name_dict['company_name_changed']\n",
    "print('\\033[1m' + 'company_name_dict:' + '\\033[0m')\n",
    "print(company_name_dict)\n",
    "\n",
    "dropper = df_dropper.set_index('company_name').to_dict('dict')\n",
    "dropper = dropper['dropper']\n",
    "print('\\033[1m' + 'dropper:' + '\\033[0m')\n",
    "print(dropper)"
   ]
  },
  {
   "cell_type": "code",
   "execution_count": null,
   "metadata": {
    "colab": {},
    "colab_type": "code",
    "id": "Ck85_ipXyFVP"
   },
   "outputs": [],
   "source": [
    "searchword = \"searchword\""
   ]
  },
  {
   "cell_type": "code",
   "execution_count": null,
   "metadata": {
    "colab": {},
    "colab_type": "code",
    "id": "2sweb9D8iD2m"
   },
   "outputs": [],
   "source": [
    "#df_twitter_handle_dict\n",
    "#df_twitter_handle_dict[df_twitter_handle_dict['company_name'].str.contains(searchword)]"
   ]
  },
  {
   "cell_type": "code",
   "execution_count": null,
   "metadata": {
    "colab": {},
    "colab_type": "code",
    "id": "8h-cUEP6iGFL"
   },
   "outputs": [],
   "source": [
    "#df_website_url_dict\n",
    "#df_website_url_dict[df_website_url_dict['company_name'].str.contains(searchword)]"
   ]
  },
  {
   "cell_type": "code",
   "execution_count": null,
   "metadata": {
    "colab": {},
    "colab_type": "code",
    "id": "8RGZjW7WiIsC"
   },
   "outputs": [],
   "source": [
    "#df_company_name_dict\n",
    "#df_company_name_dict[df_company_name_dict['company_name'].str.contains(searchword)]"
   ]
  },
  {
   "cell_type": "code",
   "execution_count": null,
   "metadata": {
    "colab": {},
    "colab_type": "code",
    "id": "R2RL1X6GiK4Q"
   },
   "outputs": [],
   "source": [
    "#df_dropper\n",
    "#df_dropper[df_dropper['company_name'].str.contains(searchword)]"
   ]
  },
  {
   "cell_type": "markdown",
   "metadata": {
    "colab_type": "text",
    "id": "qOfGXob_W2ni"
   },
   "source": [
    "#4. Load dataframes"
   ]
  },
  {
   "cell_type": "markdown",
   "metadata": {
    "colab_type": "text",
    "id": "_r5io9YPxn0Q"
   },
   "source": [
    "##4.1. Load first Dataframe"
   ]
  },
  {
   "cell_type": "markdown",
   "metadata": {
    "colab_type": "text",
    "id": "DMdpw0swRw_0"
   },
   "source": [
    "Import and show df"
   ]
  },
  {
   "cell_type": "code",
   "execution_count": null,
   "metadata": {
    "colab": {
     "base_uri": "https://localhost:8080/",
     "height": 185
    },
    "colab_type": "code",
    "executionInfo": {
     "elapsed": 67638,
     "status": "ok",
     "timestamp": 1575414720970,
     "user": {
      "displayName": "DISPLAYNAME",
      "photoUrl": "PHOTOURL",
      "userId": "USERID"
     },
     "user_tz": 0
    },
    "id": "PzslwpicMIa2",
    "outputId": "db263274-e888-4e1e-9687-5e99f76f102f"
   },
   "outputs": [],
   "source": [
    "df_raw1 = pd.read_excel(base_path + \"Pitchbook_Crunchbase_Tracxn_Raw/Don't touch \" + version_id + \"/\" + version_id + \"_Pitchbook_Crunchbase_Tracxn_Database Crunchbase funding added.xlsx\" , version_id + '_Pitchbook_Raw',header=None, skiprows=1, names=['company_id',\"company_name\",\"desc\",\"B2X\",\"industry_verticals\",\"total_raised\",\"is_funded\",\"website_url\",\"founded_date\",\"hq_city\",\"investors\",\"first_financing_date\",\"first_financing_valuation\",\"first_financing_size\",\"first_financing_type\",\"last_financing_date\",\"last_financing_valuation\",\"last_financing_size\",\"last_financing_type\",\"last_known_valuation\",\"last_known_valu_date\"], usecols=\"A,B,G,H,L,O,Q,S,X,AS,BC,BM,BN,BP,BR,BZ,CA,CC,CE,EB,EC\")\n",
    "df_raw1_lost = pd.read_excel(base_path + \"Pitchbook_Crunchbase_Tracxn_Raw/Don't touch \" + version_id + \"/\" + version_id + \"_Pitchbook_Crunchbase_Tracxn_Database Crunchbase funding added.xlsx\" , version_id + '_Pitchbook_lost', header=None, skiprows=1, names=['company_id',\"company_name\",\"desc\",\"B2X\",\"industry_verticals\",\"total_raised\",\"is_funded\",\"website_url\",\"founded_date\",\"hq_city\",\"investors\",\"first_financing_date\",\"first_financing_valuation\",\"first_financing_size\",\"first_financing_type\",\"last_financing_date\",\"last_financing_valuation\",\"last_financing_size\",\"last_financing_type\",\"last_known_valuation\",\"last_known_valu_date\"], usecols=\"A,B,G,H,L,O,Q,S,X,AS,BC,BM,BN,BP,BR,BZ,CA,CC,CE,EB,EC\")\n",
    "df_raw1 = pd.concat([df_raw1, df_raw1_lost],sort=False)\n",
    "\n",
    "column_reorder = ['company_id',\"company_name\",\"desc\",\"industry_verticals\",\"total_raised\",\"is_funded\",\"website_url\",\"founded_date\",\"hq_city\",\"investors\",\"first_financing_date\",\"first_financing_valuation\",\"first_financing_size\",\"first_financing_type\",\"last_financing_date\",\"last_financing_valuation\",\"last_financing_size\",\"last_financing_type\",\"last_known_valuation\",\"last_known_valu_date\",\"B2X\"]\n",
    "df_raw1 = df_raw1[column_reorder]\n",
    "\n",
    "#show entry\n",
    "df_test = df_raw1.loc[df_raw1['company_name'] == searchword]\n",
    "df_test\n"
   ]
  },
  {
   "cell_type": "code",
   "execution_count": null,
   "metadata": {
    "colab": {
     "base_uri": "https://localhost:8080/",
     "height": 1000
    },
    "colab_type": "code",
    "executionInfo": {
     "elapsed": 80333,
     "status": "ok",
     "timestamp": 1575414733685,
     "user": {
      "displayName": "DISPLAYNAME",
      "photoUrl": "PHOTOURL",
      "userId": "USERID"
     },
     "user_tz": 0
    },
    "id": "zCiTRq7JA7HD",
    "outputId": "dc402f9e-f6a3-4b9e-f96a-edfe813c6871"
   },
   "outputs": [],
   "source": [
    "df_raw1 = pd.read_excel(base_path + \"Pitchbook_Crunchbase_Tracxn_Raw/Don't touch \" + version_id + \"/\" + version_id + \"_Pitchbook_Crunchbase_Tracxn_Database Crunchbase funding added.xlsx\" , version_id + '_Pitchbook_Raw',header=None, skiprows=1, names=['company_id',\"company_name\",\"desc\",\"B2X\",\"industry_verticals\",\"total_raised\",\"is_funded\",\"website_url\",\"founded_date\",\"hq_city\",\"investors\",\"first_financing_date\",\"first_financing_valuation\",\"first_financing_size\",\"first_financing_type\",\"last_financing_date\",\"last_financing_valuation\",\"last_financing_size\",\"last_financing_type\",\"last_known_valuation\",\"last_known_valu_date\"], usecols=\"A,B,G,H,L,O,Q,S,X,AS,BC,BM,BN,BP,BR,BZ,CA,CC,CE,EB,EC\")\n",
    "df_raw1_lost = pd.read_excel(base_path + \"Pitchbook_Crunchbase_Tracxn_Raw/Don't touch \" + version_id + \"/\" + version_id + \"_Pitchbook_Crunchbase_Tracxn_Database Crunchbase funding added.xlsx\" , version_id + '_Pitchbook_lost', header=None, skiprows=1, names=['company_id',\"company_name\",\"desc\",\"B2X\",\"industry_verticals\",\"total_raised\",\"is_funded\",\"website_url\",\"founded_date\",\"hq_city\",\"investors\",\"first_financing_date\",\"first_financing_valuation\",\"first_financing_size\",\"first_financing_type\",\"last_financing_date\",\"last_financing_valuation\",\"last_financing_size\",\"last_financing_type\",\"last_known_valuation\",\"last_known_valu_date\"], usecols=\"A,B,G,H,L,O,Q,S,X,AS,BC,BM,BN,BP,BR,BZ,CA,CC,CE,EB,EC\")\n",
    "df_raw1 = pd.concat([df_raw1, df_raw1_lost],sort=False)\n",
    "df_raw1"
   ]
  },
  {
   "cell_type": "code",
   "execution_count": null,
   "metadata": {
    "colab": {
     "base_uri": "https://localhost:8080/",
     "height": 1000
    },
    "colab_type": "code",
    "executionInfo": {
     "elapsed": 93827,
     "status": "ok",
     "timestamp": 1575414747195,
     "user": {
      "displayName": "DISPLAYNAME",
      "photoUrl": "PHOTOURL",
      "userId": "USERID"
     },
     "user_tz": 0
    },
    "id": "6rcr7bzdTHEv",
    "outputId": "1bafedfd-8fea-48a2-bf95-6204c00477c1"
   },
   "outputs": [],
   "source": [
    "df_raw1 = pd.read_excel(base_path + \"Pitchbook_Crunchbase_Tracxn_Raw/Don't touch \" + version_id + \"/\" + version_id + \"_Pitchbook_Crunchbase_Tracxn_Database Crunchbase funding added.xlsx\" , version_id + '_Pitchbook_Raw',header=None, skiprows=1, names=['company_id',\"company_name\",\"desc\",\"B2X\",\"industry_verticals\",\"total_raised\",\"is_funded\",\"website_url\",\"founded_date\",\"hq_city\",\"investors\",\"first_financing_date\",\"first_financing_valuation\",\"first_financing_size\",\"first_financing_type\",\"last_financing_date\",\"last_financing_valuation\",\"last_financing_size\",\"last_financing_type\",\"last_known_valuation\",\"last_known_valu_date\"], usecols=\"A,B,G,H,L,O,Q,S,X,AS,BC,BM,BN,BP,BR,BZ,CA,CC,CE,EB,EC\")\n",
    "df_raw1_lost = pd.read_excel(base_path + \"Pitchbook_Crunchbase_Tracxn_Raw/Don't touch \" + version_id + \"/\" + version_id + \"_Pitchbook_Crunchbase_Tracxn_Database Crunchbase funding added.xlsx\" , version_id + '_Pitchbook_lost', header=None, skiprows=1, names=['company_id',\"company_name\",\"desc\",\"B2X\",\"industry_verticals\",\"total_raised\",\"is_funded\",\"website_url\",\"founded_date\",\"hq_city\",\"investors\",\"first_financing_date\",\"first_financing_valuation\",\"first_financing_size\",\"first_financing_type\",\"last_financing_date\",\"last_financing_valuation\",\"last_financing_size\",\"last_financing_type\",\"last_known_valuation\",\"last_known_valu_date\"], usecols=\"A,B,G,H,L,O,Q,S,X,AS,BC,BM,BN,BP,BR,BZ,CA,CC,CE,EB,EC\")\n",
    "df_raw1 = pd.concat([df_raw1, df_raw1_lost],sort=False)\n",
    "\n",
    "#-----------------create, fill, and add Pitchbook Database Link, delete company_id column-----------------#\n",
    "database_url_list = []\n",
    "company_id_list = df_raw1['company_id'].tolist()\n",
    "for company_id in company_id_list:\n",
    "    database_url = \"https://my.pitchbook.com?c=\" + company_id\n",
    "    database_url_list.append(database_url)\n",
    "df_raw1[\"database_url\"] = database_url_list\n",
    "#-------------------------------------------------------------------------#\n",
    "\n",
    "#-----------------reorder columns columns-----------------#\n",
    "#column_reorder = ['company_id',\"company_name\",\"desc\",\"industry_verticals\",\"total_raised\",\"is_funded\",\"website_url\",\"founded_date\",\"hq_city\",\"investors\",\"first_financing_date\",\"first_financing_valuation\",\"first_financing_size\",\"first_financing_type\",\"last_financing_date\",\"last_financing_valuation\",\"last_financing_size\",\"last_financing_type\",\"last_known_valuation\",\"last_known_valu_date\",\"database_url\"]\n",
    "#df_raw1 = df_raw1[column_reorder]\n",
    "#---------------------------------------------------------#\n",
    "\n",
    "#-----------------create and fill newly added columns-----------------#\n",
    "df_raw1['twitter_handle'] = np.nan\n",
    "df_raw1['dropper'] = 'active'\n",
    "df_raw1['source'] = 'Pitchbook'\n",
    "df_raw1['snap_date'] = pd.to_datetime(snap_date)\n",
    "#---------------------------------------------------------------------#\n",
    "\n",
    "##--------------------------reformat dates--------------------------#\n",
    "df_raw1['founded_date'] = df_raw1['founded_date'].fillna(0).astype(int).astype(str)\n",
    "df_raw1['founded_date'] = pd.to_datetime(df_raw1['founded_date'], format='%Y', errors='coerce')\n",
    "#------------------------------------------------------------------#\n",
    "\n",
    "#---------------------------fill empty cells and float to int---------------------------#\n",
    "df_raw1['total_raised'] = df_raw1['total_raised'].fillna(0).astype(int)\n",
    "df_raw1['last_financing_size'] = df_raw1['last_financing_size'].fillna(0).astype(int) \n",
    "df_raw1['first_financing_valuation'] = df_raw1['first_financing_valuation'].fillna(0).astype(int)\n",
    "df_raw1['first_financing_size'] = df_raw1['first_financing_size'].fillna(0).astype(int)\n",
    "df_raw1['last_financing_valuation'] = df_raw1['last_financing_valuation'].fillna(0).astype(int)\n",
    "df_raw1['last_known_valuation'] = df_raw1['last_known_valuation'].fillna(0).astype(int)\n",
    "#---------------------------------------------------------------------------------------#\n",
    "\n",
    "#--------------------------adjust for million--------------------------#\n",
    "df_raw1['total_raised'] = df_raw1['total_raised'] * 1e6 \n",
    "df_raw1['last_financing_size'] = df_raw1['last_financing_size'] * 1e6 \n",
    "df_raw1['first_financing_valuation'] = df_raw1['first_financing_valuation'] * 1e6\n",
    "df_raw1['first_financing_size'] = df_raw1['first_financing_size'] * 1e6\n",
    "df_raw1['last_financing_valuation'] = df_raw1['last_financing_valuation'] * 1e6 \n",
    "df_raw1['last_known_valuation'] = df_raw1['last_known_valuation'] * 1e6 \n",
    "#----------------------------------------------------------------------#\n",
    "\n",
    "#-----------------count num_investors-----------------#\n",
    "df_raw1['investors'] = df_raw1['investors'].str.split(\",\")\n",
    "list_investor_count = []\n",
    "\n",
    "for index, row in df_raw1.iterrows():\n",
    "    if type(row['investors']) == list:\n",
    "      #print(index, len(row['investors']))\n",
    "      list_investor_count.append(len(row['investors']))\n",
    "    elif type(row['investors']) == float:\n",
    "      #print(index, 0)\n",
    "      list_investor_count.append(0)\n",
    "      \n",
    "df_raw1['num_investors'] = list_investor_count\n",
    "#-------------------------------------------------#\n",
    "\n",
    "#-----------------sort rows and reset index-----------------#\n",
    "df_raw1 = df_raw1.sort_values('company_name')\n",
    "df_raw1 = df_raw1.reset_index(drop=True)\n",
    "df_raw1 = df_raw1[['company_name','twitter_handle','website_url','hq_city','is_funded','founded_date','last_financing_type','total_raised','num_investors','industry_verticals','database_url','desc','dropper','source','snap_date','B2X']]\n",
    "\n",
    "#-----------------------------------------------------------#\n",
    "\n",
    "#------------------------Clean company_name:------------------------#\n",
    "df_raw1['company_name'] = df_raw1['company_name'].str.replace(r\"\\(.*\\)\",\"\")\n",
    "df_raw1['company_name'] = df_raw1['company_name'].str.replace(\"ltd.\",\"\")\n",
    "df_raw1['company_name'] = df_raw1['company_name'].str.replace(\"ltd\",\"\")\n",
    "df_raw1['company_name'] = df_raw1['company_name'].str.replace(\"Ltd.\",\"\")\n",
    "df_raw1['company_name'] = df_raw1['company_name'].str.replace(\"Ltd\",\"\")\n",
    "df_raw1['company_name'] = df_raw1['company_name'].str.replace(\"LTD\",\"\")\n",
    "df_raw1['company_name'] = df_raw1['company_name'].str.replace(\"LLC\",\"\")\n",
    "df_raw1['company_name'] = df_raw1['company_name'].str.replace('Limited','')\n",
    "df_raw1['company_name'] = df_raw1['company_name'].str.lower()\n",
    "df_raw1.replace('^\\s+', '', regex=True, inplace=True) #front\n",
    "df_raw1.replace('\\s+$', '', regex=True, inplace=True) #end\n",
    "\n",
    "df_raw1_new_column_company_name_dict = []\n",
    "for i in range(len(df_raw1['company_name'])):\n",
    "    element = df_raw1['company_name'][i]\n",
    "    if df_raw1['company_name'][i] in company_name_dict:\n",
    "        df_raw1_new_column_company_name_dict.append(company_name_dict[element])\n",
    "    else:\n",
    "        df_raw1_new_column_company_name_dict.append(df_raw1['company_name'][i])\n",
    "        \n",
    "df_raw1['company_name'] = df_raw1_new_column_company_name_dict\n",
    "#-----------------------------------------------------------#\n",
    "\n",
    "#----------------------------Clean twitter_handle:----------------------------#\n",
    "df_raw1_new_column_twitter_dict = []\n",
    "for i in range(len(df_raw1['company_name'])):\n",
    "    element = df_raw1['company_name'][i]\n",
    "    if df_raw1['company_name'][i] in twitter_dict:\n",
    "        df_raw1_new_column_twitter_dict.append(twitter_dict[element])\n",
    "    else:\n",
    "        df_raw1_new_column_twitter_dict.append(df_raw1['twitter_handle'][i])\n",
    "df_raw1['twitter_handle'] = df_raw1_new_column_twitter_dict\n",
    "\n",
    "df_raw1['twitter_handle'] = df_raw1['twitter_handle'].str.replace('http:','')\n",
    "df_raw1['twitter_handle'] = df_raw1['twitter_handle'].str.replace('https:','')\n",
    "df_raw1['twitter_handle'] = df_raw1['twitter_handle'].str.replace('/','')\n",
    "df_raw1['twitter_handle'] = df_raw1['twitter_handle'].str.replace('?','')\n",
    "df_raw1['twitter_handle'] = df_raw1['twitter_handle'].str.replace('www.','')\n",
    "df_raw1['twitter_handle'] = df_raw1['twitter_handle'].str.replace('twitter.com','')\n",
    "df_raw1['twitter_handle'] = df_raw1['twitter_handle'].str.replace('@','')\n",
    "df_raw1['twitter_handle'] = df_raw1['twitter_handle'].str.replace('lang=en-gb','')\n",
    "df_raw1['twitter_handle'] = df_raw1['twitter_handle'].str.replace('lang=bg','')\n",
    "df_raw1['twitter_handle'] = df_raw1['twitter_handle'].str.replace('lang=en','')\n",
    "df_raw1['twitter_handle'] = df_raw1['twitter_handle'].str.replace('lang=ko','')\n",
    "df_raw1['twitter_handle'] = df_raw1['twitter_handle'].str.replace('searchq=','')\n",
    "df_raw1['twitter_handle'] = df_raw1['twitter_handle'].str.replace('Not Functioning','')\n",
    "df_raw1['twitter_handle'] = df_raw1['twitter_handle'].str.lower()\n",
    "#-----------------------------------------------------------------------------#\n",
    "\n",
    "#-----------------------------------Clean website_url:-----------------------------------#\n",
    "df_raw1_new_column_website_url_dict = []\n",
    "for i in range(len(df_raw1['company_name'])):\n",
    "    element = df_raw1['company_name'][i]\n",
    "    if df_raw1['company_name'][i] in website_url_dict:\n",
    "        df_raw1_new_column_website_url_dict.append(website_url_dict[element])\n",
    "    else:\n",
    "        df_raw1_new_column_website_url_dict.append(df_raw1['website_url'][i])\n",
    "        \n",
    "df_raw1['website_url'] = df_raw1_new_column_website_url_dict\n",
    "\n",
    "df_raw1['website_url'] = df_raw1['website_url'].str.replace('http:','')\n",
    "df_raw1['website_url'] = df_raw1['website_url'].str.replace('https:','')\n",
    "df_raw1['website_url'] = df_raw1['website_url'].str.replace('/','')\n",
    "df_raw1['website_url'] = df_raw1['website_url'].str.replace('www.','')\n",
    "#----------------------------------------------------------------------------------------#\n",
    "\n",
    "#--------------------------------------Clean last_financing_type:--------------------------------------#\n",
    "df_raw1['last_financing_type'] = df_raw1['last_financing_type'].str.replace('Privately Held (no backing)','False')\n",
    "df_raw1['last_financing_type'] = df_raw1['last_financing_type'].str.replace('Series A1','Series A')\n",
    "df_raw1['last_financing_type'] = df_raw1.last_financing_type.fillna('unfunded')\n",
    "#------------------------------------------------------------------------------------------------------#\n",
    "\n",
    "#--------------------------------------Normalise is_funded:--------------------------------------#\n",
    "df_raw1['is_funded'] = df_raw1['is_funded'].str.replace('Privately Held \\(no backing\\)','No')\n",
    "df_raw1['is_funded'] = df_raw1['is_funded'].str.replace('Privately Held \\(backing\\)','Yes')\n",
    "#------------------------------------------------------------------------------------------------#\n",
    "\n",
    "#--------------------------------------Dropper:--------------------------------------#\n",
    "df_raw1_new_column_dropper = []\n",
    "for i in range(len(df_raw1['company_name'])):\n",
    "    element = df_raw1['company_name'][i]\n",
    "    if df_raw1['company_name'][i] in dropper:\n",
    "        df_raw1_new_column_dropper.append(dropper[element])\n",
    "    else:\n",
    "        df_raw1_new_column_dropper.append(df_raw1['dropper'][i])\n",
    "df_raw1['dropper'] = df_raw1_new_column_dropper\n",
    "#------------------------------------------------------------------------------------#\n",
    "\n",
    "#--------------------------------------Drop duplicates:--------------------------------------#\n",
    "df_raw1 = df_raw1.drop_duplicates(subset='company_name', keep=\"first\")\n",
    "#--------------------------------------------------------------------------------------------#\n",
    "\n",
    "#--------------------------------------#Clean front and end spaces:--------------------------------------#\n",
    "df_raw1.replace('^\\s+', '', regex=True, inplace=True) #front\n",
    "df_raw1.replace('\\s+$', '', regex=True, inplace=True) #end\n",
    "#--------------------------------------------------------------------------------------------------------#\n",
    "\n",
    "df_raw1[400:450]\n",
    "\n",
    "#dfcheck = df_raw1[df_raw1['company_name'].str.contains(\"retinascan\")]\n",
    "#dfcheck"
   ]
  },
  {
   "cell_type": "code",
   "execution_count": null,
   "metadata": {
    "colab": {
     "base_uri": "https://localhost:8080/",
     "height": 114
    },
    "colab_type": "code",
    "executionInfo": {
     "elapsed": 93813,
     "status": "ok",
     "timestamp": 1575414747196,
     "user": {
      "displayName": "DISPLAYNAME",
      "photoUrl": "PHOTOURL",
      "userId": "USERID"
     },
     "user_tz": 0
    },
    "id": "l_Jy7TbIMAtg",
    "outputId": "167fd74f-42f0-46c3-b595-cb32569ece6f"
   },
   "outputs": [],
   "source": [
    "#show entry\n",
    "df_test = df_raw1.loc[df_raw1['company_name'] == \"future thinking\"]\n",
    "df_test"
   ]
  },
  {
   "cell_type": "code",
   "execution_count": null,
   "metadata": {
    "colab": {
     "base_uri": "https://localhost:8080/",
     "height": 148
    },
    "colab_type": "code",
    "executionInfo": {
     "elapsed": 93801,
     "status": "ok",
     "timestamp": 1575414747197,
     "user": {
      "displayName": "DISPLAYNAME",
      "photoUrl": "PHOTOURL",
      "userId": "USERID"
     },
     "user_tz": 0
    },
    "id": "UCS_O7odMCUg",
    "outputId": "fdf45cfb-a625-4d4a-879d-20f570463e24"
   },
   "outputs": [],
   "source": [
    "#show entry\n",
    "df_test = df_raw1.loc[df_raw1['hq_city'] == searchword]\n",
    "df_test"
   ]
  },
  {
   "cell_type": "code",
   "execution_count": null,
   "metadata": {
    "colab": {
     "base_uri": "https://localhost:8080/",
     "height": 34
    },
    "colab_type": "code",
    "executionInfo": {
     "elapsed": 93789,
     "status": "ok",
     "timestamp": 1575414747198,
     "user": {
      "displayName": "DISPLAYNAME",
      "photoUrl": "PHOTOURL",
      "userId": "USERID"
     },
     "user_tz": 0
    },
    "id": "3ZFmZb3pWAvs",
    "outputId": "33f15441-989e-49d2-8b05-33cad002fc47"
   },
   "outputs": [],
   "source": [
    "print('We imported ' + '\\033[1m' + str(len(df_raw1.index)) + '\\033[0m' + ' columns and ' + '\\033[1m' + str(len(df_raw1.columns)) + '\\033[0m' + ' rows from the Pitchbook_Raw Sheet.')"
   ]
  },
  {
   "cell_type": "code",
   "execution_count": null,
   "metadata": {
    "colab": {
     "base_uri": "https://localhost:8080/",
     "height": 97
    },
    "colab_type": "code",
    "executionInfo": {
     "elapsed": 93776,
     "status": "ok",
     "timestamp": 1575414747198,
     "user": {
      "displayName": "DISPLAYNAME",
      "photoUrl": "PHOTOURL",
      "userId": "USERID"
     },
     "user_tz": 0
    },
    "id": "cyOp9mTreg5F",
    "outputId": "c1d688df-7fa2-44e1-c07d-6d7b884f93c1"
   },
   "outputs": [],
   "source": [
    "df_raw1[df_raw1['company_name'].str.contains(searchword)]"
   ]
  },
  {
   "cell_type": "code",
   "execution_count": null,
   "metadata": {
    "colab": {
     "base_uri": "https://localhost:8080/",
     "height": 359
    },
    "colab_type": "code",
    "executionInfo": {
     "elapsed": 93763,
     "status": "ok",
     "timestamp": 1575414747199,
     "user": {
      "displayName": "DISPLAYNAME",
      "photoUrl": "PHOTOURL",
      "userId": "USERID"
     },
     "user_tz": 0
    },
    "id": "oo-Sk1L-xH7m",
    "outputId": "f952daba-0fe3-4835-b9c4-ff3f37d83ae8"
   },
   "outputs": [],
   "source": [
    "df_raw1.groupby('dropper').count()"
   ]
  },
  {
   "cell_type": "code",
   "execution_count": null,
   "metadata": {
    "colab": {
     "base_uri": "https://localhost:8080/",
     "height": 34
    },
    "colab_type": "code",
    "executionInfo": {
     "elapsed": 93751,
     "status": "ok",
     "timestamp": 1575414747199,
     "user": {
      "displayName": "DISPLAYNAME",
      "photoUrl": "PHOTOURL",
      "userId": "USERID"
     },
     "user_tz": 0
    },
    "id": "juz6-sj9wWBj",
    "outputId": "228f13fb-b78a-473e-ebdd-c7fffdd4c47f"
   },
   "outputs": [],
   "source": [
    "df_raw1 = df_raw1[df_raw1.dropper != 'inactive']\n",
    "df_raw1 = df_raw1[df_raw1.dropper != 'late stage']\n",
    "df_raw1 = df_raw1[df_raw1.dropper != 'not ai startup']\n",
    "df_raw1 = df_raw1[df_raw1.dropper != 'acquired']\n",
    "df_raw1 = df_raw1[df_raw1.dropper != 'debtfinance']\n",
    "df_raw1 = df_raw1[df_raw1.dropper != 'PEbacked']\n",
    "df_raw1 = df_raw1[df_raw1.dropper != 'not in uk']\n",
    "\n",
    "print('After dropping we have ' + '\\033[1m' + str(len(df_raw1.index)) + '\\033[0m' + ' companies left in the Pitchbook Dataset')"
   ]
  },
  {
   "cell_type": "code",
   "execution_count": null,
   "metadata": {
    "colab": {
     "base_uri": "https://localhost:8080/",
     "height": 204
    },
    "colab_type": "code",
    "executionInfo": {
     "elapsed": 93937,
     "status": "ok",
     "timestamp": 1575414747399,
     "user": {
      "displayName": "DISPLAYNAME",
      "photoUrl": "PHOTOURL",
      "userId": "USERID"
     },
     "user_tz": 0
    },
    "id": "NxrBoXSi2ktm",
    "outputId": "ef37df72-c356-4187-d93d-e3d4dc2fefdb"
   },
   "outputs": [],
   "source": [
    "df_raw1.groupby('dropper').count()"
   ]
  },
  {
   "cell_type": "code",
   "execution_count": null,
   "metadata": {
    "colab": {
     "base_uri": "https://localhost:8080/",
     "height": 669
    },
    "colab_type": "code",
    "executionInfo": {
     "elapsed": 93925,
     "status": "ok",
     "timestamp": 1575414747400,
     "user": {
      "displayName": "DISPLAYNAME",
      "photoUrl": "PHOTOURL",
      "userId": "USERID"
     },
     "user_tz": 0
    },
    "id": "QCtA_h5HWRXY",
    "outputId": "db503459-0cdb-43ca-ff0e-bde7409c7359"
   },
   "outputs": [],
   "source": [
    "df_raw1.groupby('last_financing_type').count()"
   ]
  },
  {
   "cell_type": "code",
   "execution_count": null,
   "metadata": {
    "colab": {
     "base_uri": "https://localhost:8080/",
     "height": 34
    },
    "colab_type": "code",
    "executionInfo": {
     "elapsed": 93912,
     "status": "ok",
     "timestamp": 1575414747400,
     "user": {
      "displayName": "DISPLAYNAME",
      "photoUrl": "PHOTOURL",
      "userId": "USERID"
     },
     "user_tz": 0
    },
    "id": "68dkDOs7Oyx4",
    "outputId": "f9ea6bbc-5adc-40e7-e8c6-79cf9708d9ed"
   },
   "outputs": [],
   "source": [
    "#drop late stage\n",
    "df_raw1 = df_raw1[df_raw1.last_financing_type != 'Series E']\n",
    "df_raw1 = df_raw1[df_raw1.last_financing_type != 'Series D']\n",
    "df_raw1 = df_raw1[df_raw1.last_financing_type != 'Series C']\n",
    "df_raw1 = df_raw1[df_raw1.last_financing_type != 'Private Equity']\n",
    "df_raw1 = df_raw1[df_raw1.last_financing_type != 'Series C']\n",
    "df_raw1 = df_raw1[df_raw1.last_financing_type != 'acquired']\n",
    "df_raw1 = df_raw1[df_raw1.dropper != 'duplicate']\n",
    "\n",
    "print('After dropping late stage companies we have ' + '\\033[1m' + str(len(df_raw1.index)) + '\\033[0m' + ' companies left in the Pitchbook Dataset')"
   ]
  },
  {
   "cell_type": "code",
   "execution_count": null,
   "metadata": {
    "colab": {
     "base_uri": "https://localhost:8080/",
     "height": 97
    },
    "colab_type": "code",
    "executionInfo": {
     "elapsed": 93900,
     "status": "ok",
     "timestamp": 1575414747401,
     "user": {
      "displayName": "DISPLAYNAME",
      "photoUrl": "PHOTOURL",
      "userId": "USERID"
     },
     "user_tz": 0
    },
    "id": "OmcjxS83el31",
    "outputId": "3988af7e-ea40-4bfd-d21e-ff4d1878b391"
   },
   "outputs": [],
   "source": [
    "df_raw1[df_raw1['company_name'].str.contains(searchword)]"
   ]
  },
  {
   "cell_type": "markdown",
   "metadata": {
    "colab_type": "text",
    "id": "NuY63FnmfSUX"
   },
   "source": [
    "##4.2. Load second Dataframe"
   ]
  },
  {
   "cell_type": "markdown",
   "metadata": {
    "colab_type": "text",
    "id": "VVLOx_qeDkv4"
   },
   "source": [
    "Import and show df"
   ]
  },
  {
   "cell_type": "code",
   "execution_count": null,
   "metadata": {
    "colab": {
     "base_uri": "https://localhost:8080/",
     "height": 168
    },
    "colab_type": "code",
    "executionInfo": {
     "elapsed": 113646,
     "status": "ok",
     "timestamp": 1575414767173,
     "user": {
      "displayName": "DISPLAYNAME",
      "photoUrl": "PHOTOURL",
      "userId": "USERID"
     },
     "user_tz": 0
    },
    "id": "G5ZfvwaODfnr",
    "outputId": "ed1d3baf-c74a-4d83-8346-770fa6068f86"
   },
   "outputs": [],
   "source": [
    "df_raw2 = pd.read_excel(base_path + \"Pitchbook_Crunchbase_Tracxn_Raw/Don't touch \" + version_id + \"/\" + version_id + \"_Pitchbook_Crunchbase_Tracxn_Database Crunchbase funding added.xlsx\" , version_id + '_Crunchbase_Raw', header=None, skiprows=1, names=['company_name','database_url','industry_verticals','hq_city','desc','founded_date','num_articles','twitter_handle','website_url','num_rounds','last_financing_date','last_financing_type','total_raised','num_investors','num_events'], usecols=\"A,B,C,D,E,J,Q,V,W,AS,AU,AY,BI,BL,CB\")\n",
    "df_raw2_lost = pd.read_excel(base_path + \"Pitchbook_Crunchbase_Tracxn_Raw/Don't touch \" + version_id + \"/\" + version_id + \"_Pitchbook_Crunchbase_Tracxn_Database Crunchbase funding added.xlsx\" , version_id + '_Crunchbase_lost', header=None, skiprows=1, names=['company_name','database_url','industry_verticals','hq_city','desc','founded_date','num_articles','twitter_handle','website_url','num_rounds','last_financing_date','last_financing_type','total_raised','num_investors','num_events'], usecols=\"A,B,C,D,E,J,Q,V,W,AS,AU,AY,BI,BL,CB\")\n",
    "df_raw2 = pd.concat([df_raw2, df_raw2_lost],sort=False)\n",
    "\n",
    "#-----------------create and fill newly added columns-----------------#\n",
    "df_raw2['source'] = 'Crunchbase'\n",
    "df_raw2['snap_date'] = pd.to_datetime('2018-10-22')\n",
    "df_raw2['dropper'] = 'active'\n",
    "#---------------------------------------------------------------------#\n",
    "\n",
    "#---------------------------format hq city---------------------------#\n",
    "df_raw2['hq_city'] = df_raw2['hq_city'].str.split(',').str.get(0)\n",
    "#--------------------------------------------------------------------#\n",
    "\n",
    "#---------------------------fill empty cells and float to int---------------------------#\n",
    "df_raw2['num_articles'] = df_raw2['num_articles'].fillna(0).astype(int)\n",
    "df_raw2['num_rounds'] = df_raw2['num_rounds'].fillna(0).astype(int)\n",
    "df_raw2['total_raised'] = df_raw2['total_raised'].fillna(0).astype(int)\n",
    "df_raw2['num_investors'] = df_raw2['num_investors'].fillna(0).astype(int)\n",
    "df_raw2['num_events'] = df_raw2['num_events'].fillna(0).astype(int)\n",
    "#---------------------------------------------------------------------------------------#\n",
    "\n",
    "#-----------------sort rows and reset index-----------------#\n",
    "df_raw2 = df_raw2.sort_values('company_name')\n",
    "df_raw2 = df_raw2.reset_index(drop=True)\n",
    "#-----------------------------------------------------------#\n",
    "\n",
    "#---------------------------Clean company_name---------------------------#\n",
    "df_raw2['company_name'] = df_raw2['company_name'].str.replace(r\"\\(.*\\)\",\"\")\n",
    "df_raw2['company_name'] = df_raw2['company_name'].str.replace(\"ltd.\",\"\")\n",
    "df_raw2['company_name'] = df_raw2['company_name'].str.replace(\"ltd\",\"\")\n",
    "df_raw2['company_name'] = df_raw2['company_name'].str.replace(\"Ltd.\",\"\")\n",
    "df_raw2['company_name'] = df_raw2['company_name'].str.replace(\"Ltd\",\"\")\n",
    "df_raw2['company_name'] = df_raw2['company_name'].str.replace(\"LTD\",\"\")\n",
    "df_raw2['company_name'] = df_raw2['company_name'].str.replace(\"LLC\",\"\")\n",
    "df_raw2['company_name'] = df_raw2['company_name'].str.replace('Limited','')\n",
    "df_raw2['company_name'] = df_raw2['company_name'].str.lower()\n",
    "df_raw2.replace('^\\s+', '', regex=True, inplace=True) #front\n",
    "df_raw2.replace('\\s+$', '', regex=True, inplace=True) #end\n",
    "\n",
    "df_raw2_new_column_company_name_dict = []\n",
    "for i in range(len(df_raw2['company_name'])):\n",
    "    element = df_raw2['company_name'][i]\n",
    "    if df_raw2['company_name'][i] in company_name_dict:\n",
    "        df_raw2_new_column_company_name_dict.append(company_name_dict[element])\n",
    "    else:\n",
    "        df_raw2_new_column_company_name_dict.append(df_raw2['company_name'][i])\n",
    "        \n",
    "df_raw2['company_name'] = df_raw2_new_column_company_name_dict\n",
    "#------------------------------------------------------------------------#\n",
    "\n",
    "#---------------------------Clean twitter_handle:---------------------------#\n",
    "df_raw2_new_column_twitter_dict = []\n",
    "for i in range(len(df_raw2['company_name'])):\n",
    "    element = df_raw2['company_name'][i]\n",
    "    if df_raw2['company_name'][i] in twitter_dict:\n",
    "        df_raw2_new_column_twitter_dict.append(twitter_dict[element])\n",
    "    else:\n",
    "        df_raw2_new_column_twitter_dict.append(df_raw2['twitter_handle'][i])\n",
    "\n",
    "df_raw2['twitter_handle'] = df_raw2_new_column_twitter_dict\n",
    "\n",
    "\n",
    "df_raw2['twitter_handle'] = df_raw2['twitter_handle'].str.replace('http:','')\n",
    "df_raw2['twitter_handle'] = df_raw2['twitter_handle'].str.replace('https:','')\n",
    "df_raw2['twitter_handle'] = df_raw2['twitter_handle'].str.replace('/','')\n",
    "df_raw2['twitter_handle'] = df_raw2['twitter_handle'].str.replace('?','')\n",
    "df_raw2['twitter_handle'] = df_raw2['twitter_handle'].str.replace('www.','')\n",
    "df_raw2['twitter_handle'] = df_raw2['twitter_handle'].str.replace('twitter.com','')\n",
    "df_raw2['twitter_handle'] = df_raw2['twitter_handle'].str.replace('@','')\n",
    "df_raw2['twitter_handle'] = df_raw2['twitter_handle'].str.replace('lang=en-gb','')\n",
    "df_raw2['twitter_handle'] = df_raw2['twitter_handle'].str.replace('lang=bg','')\n",
    "df_raw2['twitter_handle'] = df_raw2['twitter_handle'].str.replace('lang=en','')\n",
    "df_raw2['twitter_handle'] = df_raw2['twitter_handle'].str.replace('lang=ko','')\n",
    "df_raw2['twitter_handle'] = df_raw2['twitter_handle'].str.replace('\\?ref_src=twsrc%5Egoogle%7Ctwcamp%5Eserp%7Ctwgr%5Eauthor','')\n",
    "df_raw2['twitter_handle'] = df_raw2['twitter_handle'].str.replace('searchq=','')\n",
    "df_raw2['twitter_handle'] = df_raw2['twitter_handle'].str.replace('Not Functioning','')\n",
    "df_raw2['twitter_handle'] = df_raw2['twitter_handle'].str.lower()\n",
    "#---------------------------------------------------------------------------#\n",
    "\n",
    "#---------------------------Clean website_url:---------------------------#\n",
    "df_raw2_new_column_website_url_dict = []\n",
    "for i in range(len(df_raw2['company_name'])):\n",
    "    element = df_raw2['company_name'][i]\n",
    "    if df_raw2['company_name'][i] in website_url_dict:\n",
    "        df_raw2_new_column_website_url_dict.append(website_url_dict[element])\n",
    "    else:\n",
    "        df_raw2_new_column_website_url_dict.append(df_raw2['website_url'][i])\n",
    "\n",
    "df_raw2['website_url'] = df_raw2_new_column_website_url_dict\n",
    "\n",
    "df_raw2['website_url'] = df_raw2['website_url'].str.replace('http:','')\n",
    "df_raw2['website_url'] = df_raw2['website_url'].str.replace('https:','')\n",
    "df_raw2['website_url'] = df_raw2['website_url'].str.replace('/','')\n",
    "df_raw2['website_url'] = df_raw2['website_url'].str.replace('www.','')\n",
    "#------------------------------------------------------------------------#\n",
    "\n",
    "#---------------------------Clean funding_status:---------------------------#\n",
    "df_raw2['last_financing_type'] = df_raw2['last_financing_type'].str.replace(\"Unfunded\",\"Privately Held (no backing)\")\n",
    "df_raw2['last_financing_type'] = df_raw2['last_financing_type'].fillna(np.nan)\n",
    "#------------------------------------------------------------------------#\n",
    "\n",
    "#---------------------------Dropper---------------------------#\n",
    "df_raw2_new_column_dropper = []\n",
    "for i in range(len(df_raw2['company_name'])):\n",
    "    element = df_raw2['company_name'][i]\n",
    "    if df_raw2['company_name'][i] in dropper:\n",
    "        df_raw2_new_column_dropper.append(dropper[element])\n",
    "    else:\n",
    "        df_raw2_new_column_dropper.append(df_raw2['dropper'][i])\n",
    "df_raw2['dropper'] = df_raw2_new_column_dropper\n",
    "#-------------------------------------------------------------#\n",
    "\n",
    "#--------------------------------------Drop duplicates:--------------------------------------#\n",
    "df_raw2 = df_raw2.drop_duplicates(subset='company_name', keep=\"first\")\n",
    "#--------------------------------------------------------------------------------------------#\n",
    "\n",
    "#---------------------------Clean company_name---------------------------#\n",
    "#Clean front and end spaces:\n",
    "df_raw2.replace('^\\s+', '', regex=True, inplace=True) #front\n",
    "df_raw2.replace('\\s+$', '', regex=True, inplace=True) #end\n",
    "#------------------------------------------------------------------------#\n",
    "\n",
    "dfcheck = df_raw2[df_raw2['company_name'].str.contains(\"futr\")]\n",
    "dfcheck\n",
    "#df_raw2[:10]"
   ]
  },
  {
   "cell_type": "code",
   "execution_count": null,
   "metadata": {
    "colab": {
     "base_uri": "https://localhost:8080/",
     "height": 202
    },
    "colab_type": "code",
    "executionInfo": {
     "elapsed": 113635,
     "status": "ok",
     "timestamp": 1575414767174,
     "user": {
      "displayName": "DISPLAYNAME",
      "photoUrl": "PHOTOURL",
      "userId": "USERID"
     },
     "user_tz": 0
    },
    "id": "VJ6yJvfEL4bh",
    "outputId": "c031fab0-d728-4906-993a-67a6f15bb5b5"
   },
   "outputs": [],
   "source": [
    "#show entry\n",
    "df_test = df_raw2.loc[df_raw2['company_name'] == \"loop - the email messenger\"]\n",
    "df_test"
   ]
  },
  {
   "cell_type": "code",
   "execution_count": null,
   "metadata": {
    "colab": {
     "base_uri": "https://localhost:8080/",
     "height": 34
    },
    "colab_type": "code",
    "executionInfo": {
     "elapsed": 113622,
     "status": "ok",
     "timestamp": 1575414767174,
     "user": {
      "displayName": "DISPLAYNAME",
      "photoUrl": "PHOTOURL",
      "userId": "USERID"
     },
     "user_tz": 0
    },
    "id": "To2Jd_ZcOO8N",
    "outputId": "4ad5224b-9a16-41a0-ca0a-89d2240ca5fe"
   },
   "outputs": [],
   "source": [
    "print('We imported ' + '\\033[1m' + str(len(df_raw2.index)) + '\\033[0m' + ' columns and ' + '\\033[1m' + str(len(df_raw2.columns)) + '\\033[0m' + ' rows from the Crunchbase_Raw Sheet.')"
   ]
  },
  {
   "cell_type": "code",
   "execution_count": null,
   "metadata": {
    "colab": {
     "base_uri": "https://localhost:8080/",
     "height": 283
    },
    "colab_type": "code",
    "executionInfo": {
     "elapsed": 113611,
     "status": "ok",
     "timestamp": 1575414767175,
     "user": {
      "displayName": "DISPLAYNAME",
      "photoUrl": "PHOTOURL",
      "userId": "USERID"
     },
     "user_tz": 0
    },
    "id": "WsgSaCfOzWVt",
    "outputId": "723ca514-179e-42d1-a3e3-fb180e11d469"
   },
   "outputs": [],
   "source": [
    "df_raw2.groupby('dropper').count()"
   ]
  },
  {
   "cell_type": "code",
   "execution_count": null,
   "metadata": {
    "colab": {
     "base_uri": "https://localhost:8080/",
     "height": 151
    },
    "colab_type": "code",
    "executionInfo": {
     "elapsed": 113598,
     "status": "ok",
     "timestamp": 1575414767175,
     "user": {
      "displayName": "DISPLAYNAME",
      "photoUrl": "PHOTOURL",
      "userId": "USERID"
     },
     "user_tz": 0
    },
    "id": "xqCeeE3r-kbX",
    "outputId": "5ff74468-6b9f-4d44-c788-95220d051932"
   },
   "outputs": [],
   "source": [
    "df_raw2[df_raw2['company_name'].str.contains(searchword)]"
   ]
  },
  {
   "cell_type": "code",
   "execution_count": null,
   "metadata": {
    "colab": {
     "base_uri": "https://localhost:8080/",
     "height": 34
    },
    "colab_type": "code",
    "executionInfo": {
     "elapsed": 113586,
     "status": "ok",
     "timestamp": 1575414767176,
     "user": {
      "displayName": "DISPLAYNAME",
      "photoUrl": "PHOTOURL",
      "userId": "USERID"
     },
     "user_tz": 0
    },
    "id": "1JGLBYuOzc-R",
    "outputId": "2a7f160f-9b96-4086-f25c-dd69877e0029"
   },
   "outputs": [],
   "source": [
    "df_raw2 = df_raw2[df_raw2.dropper != 'inactive']\n",
    "df_raw2 = df_raw2[df_raw2.dropper != 'late stage']\n",
    "df_raw2 = df_raw2[df_raw2.dropper != 'not ai startup']\n",
    "df_raw2 = df_raw2[df_raw2.dropper != 'acquired']\n",
    "df_raw2 = df_raw2[df_raw2.dropper != 'debtfinance']\n",
    "df_raw2 = df_raw2[df_raw2.dropper != 'PEbacked']\n",
    "df_raw2 = df_raw2[df_raw2.dropper != 'duplicate']\n",
    "\n",
    "\n",
    "print('After dropping inactive companies we have ' + '\\033[1m' + str(len(df_raw2.index)) + '\\033[0m' + ' companies left in the Crunchbase Dataset')"
   ]
  },
  {
   "cell_type": "code",
   "execution_count": null,
   "metadata": {
    "colab": {
     "base_uri": "https://localhost:8080/",
     "height": 34
    },
    "colab_type": "code",
    "executionInfo": {
     "elapsed": 113573,
     "status": "ok",
     "timestamp": 1575414767176,
     "user": {
      "displayName": "DISPLAYNAME",
      "photoUrl": "PHOTOURL",
      "userId": "USERID"
     },
     "user_tz": 0
    },
    "id": "wl-p2v5iE6fg",
    "outputId": "e7244d11-ceb4-4e91-8a6b-236f2e49f799"
   },
   "outputs": [],
   "source": [
    "#drop late stage\n",
    "df_raw2 = df_raw2[df_raw2.last_financing_type != 'Series E']\n",
    "df_raw2 = df_raw2[df_raw2.last_financing_type != 'Series D']\n",
    "df_raw2 = df_raw2[df_raw2.last_financing_type != 'Series C']\n",
    "df_raw2 = df_raw2[df_raw2.last_financing_type != 'Private Equity']\n",
    "df_raw2 = df_raw2[df_raw2.last_financing_type != 'Series C']\n",
    "\n",
    "\n",
    "print('After dropping late stage companies we have ' + '\\033[1m' + str(len(df_raw2.index)) + '\\033[0m' + ' companies left in the Crunchbase Dataset')"
   ]
  },
  {
   "cell_type": "code",
   "execution_count": null,
   "metadata": {
    "colab": {
     "base_uri": "https://localhost:8080/",
     "height": 151
    },
    "colab_type": "code",
    "executionInfo": {
     "elapsed": 113794,
     "status": "ok",
     "timestamp": 1575414767410,
     "user": {
      "displayName": "DISPLAYNAME",
      "photoUrl": "PHOTOURL",
      "userId": "USERID"
     },
     "user_tz": 0
    },
    "id": "0MOOzRgXSENH",
    "outputId": "4040e603-700e-446e-d5b4-d2fc59b48c98"
   },
   "outputs": [],
   "source": [
    "df_raw2[df_raw2['company_name'].str.contains(searchword)]"
   ]
  },
  {
   "cell_type": "code",
   "execution_count": null,
   "metadata": {
    "colab": {
     "base_uri": "https://localhost:8080/",
     "height": 514
    },
    "colab_type": "code",
    "executionInfo": {
     "elapsed": 113780,
     "status": "ok",
     "timestamp": 1575414767410,
     "user": {
      "displayName": "DISPLAYNAME",
      "photoUrl": "PHOTOURL",
      "userId": "USERID"
     },
     "user_tz": 0
    },
    "id": "hx7PSDt_nZCy",
    "outputId": "8266a0f2-9a0d-4881-c89e-42a370d28993"
   },
   "outputs": [],
   "source": [
    "df_raw2.groupby('last_financing_type').count()"
   ]
  },
  {
   "cell_type": "code",
   "execution_count": null,
   "metadata": {
    "colab": {
     "base_uri": "https://localhost:8080/",
     "height": 48
    },
    "colab_type": "code",
    "executionInfo": {
     "elapsed": 113769,
     "status": "ok",
     "timestamp": 1575414767411,
     "user": {
      "displayName": "DISPLAYNAME",
      "photoUrl": "PHOTOURL",
      "userId": "USERID"
     },
     "user_tz": 0
    },
    "id": "aXjDEBZvet3S",
    "outputId": "d4949a5d-b80c-4a6d-b91f-fbd889b1268c"
   },
   "outputs": [],
   "source": [
    "df_raw2.loc[df_raw2['company_name'] == \"fraugster\"]"
   ]
  },
  {
   "cell_type": "markdown",
   "metadata": {
    "colab_type": "text",
    "id": "nHiL3QtjPtTK"
   },
   "source": [
    "## 4.3. Load third Dataframe"
   ]
  },
  {
   "cell_type": "markdown",
   "metadata": {
    "colab_type": "text",
    "id": "uIXK3GrUP1Sq"
   },
   "source": [
    "Import and show df"
   ]
  },
  {
   "cell_type": "code",
   "execution_count": null,
   "metadata": {
    "colab": {
     "base_uri": "https://localhost:8080/",
     "height": 1000
    },
    "colab_type": "code",
    "executionInfo": {
     "elapsed": 141139,
     "status": "ok",
     "timestamp": 1575414794811,
     "user": {
      "displayName": "DISPLAYNAME",
      "photoUrl": "PHOTOURL",
      "userId": "USERID"
     },
     "user_tz": 0
    },
    "id": "KdGbpK4wP65y",
    "outputId": "cd931cf4-eb9c-4f16-e106-dae87b1e9997"
   },
   "outputs": [],
   "source": [
    "df_raw3a = pd.read_excel(base_path + \"Pitchbook_Crunchbase_Tracxn_Raw/Don't touch \" + version_id + \"/\" + version_id + \"_Pitchbook_Crunchbase_Tracxn_Database Crunchbase funding added.xlsx\" , version_id + '_Tracxn_Raw', header=None, skiprows=1, names=['company_name','overview_tracxn','founded_date','hq_city','is_funded','total_raised','last_financing_type','industry_verticals','desc','website_url','twitter_handle','database_url'], usecols=\"B,D,E,F,I,J,K,R,U,BB,BI,BF\")\n",
    "df_raw3a_lost = pd.read_excel(base_path + \"Pitchbook_Crunchbase_Tracxn_Raw/Don't touch \" + version_id + \"/\" + version_id + \"_Pitchbook_Crunchbase_Tracxn_Database Crunchbase funding added.xlsx\", version_id + '_Tracxn_lost', header=None, skiprows=1, names=['company_name','overview_tracxn','founded_date','hq_city','is_funded','total_raised','last_financing_type','industry_verticals','desc','website_url','twitter_handle','database_url'], usecols=\"B,D,E,F,I,J,K,R,U,BB,BI,BF\")\n",
    "df_raw3a = pd.concat([df_raw3a, df_raw3a_lost])\n",
    "\n",
    "df_raw3b = pd.read_excel(base_path + \"Pitchbook_Crunchbase_Tracxn_Raw/Don't touch \" + version_id + \"/\" + version_id + \"_Pitchbook_Crunchbase_Tracxn_Database Crunchbase funding added.xlsx\" , version_id + '_Tracxn_Raw', header=None, skiprows=1, names=['institutional_investors','angels'], usecols=\"S,T\")\n",
    "df_raw3b_lost = pd.read_excel(base_path + \"Pitchbook_Crunchbase_Tracxn_Raw/Don't touch \" + version_id + \"/\" + version_id + \"_Pitchbook_Crunchbase_Tracxn_Database Crunchbase funding added.xlsx\", version_id + '_Tracxn_lost', header=None, skiprows=1, names=['institutional_investors','angels'], usecols=\"S,T\")\n",
    "df_raw3b = pd.concat([df_raw3b, df_raw3b_lost])\n",
    "\n",
    "#-----------------create and fill newly added columns-----------------#\n",
    "df_raw3a['source'] = 'Tracxn'\n",
    "df_raw3a['dropper'] = 'active'\n",
    "df_raw3a['snap_date'] = pd.to_datetime('2018-11-05')\n",
    "#---------------------------------------------------------------------#\n",
    "\n",
    "#-----------------mere descritions and delete original columns-----------------#\n",
    "df_raw3a[\"desc\"] = df_raw3a[\"overview_tracxn\"].map(str) + \" \" + df_raw3a[\"desc\"]\n",
    "#------------------------------------------------------------------------------#\n",
    "\n",
    "#--------------------------reformat dates--------------------------#\n",
    "df_raw3a['founded_date'] = df_raw3a['founded_date'].fillna(0).astype(int).astype(str)\n",
    "df_raw3a['founded_date'] = pd.to_datetime(df_raw1['founded_date'], format='%Y', errors='coerce')\n",
    "#------------------------------------------------------------------#\n",
    "\n",
    "#---------------------------fill empty cells and float to int---------------------------#\n",
    "df_raw3a['total_raised'] = df_raw3a['total_raised'].fillna(0).astype(int)\n",
    "#---------------------------------------------------------------------------------------#\n",
    "\n",
    "#--------------make investor coolumn and count num_investors--------------#\n",
    "df_raw3b['institutional_investors'] = df_raw3b['institutional_investors'].str.split(\"\\n\")\n",
    "df_raw3b['angels'] = df_raw3b['angels'].str.split(\"\\n\")\n",
    "\n",
    "list_investors = []\n",
    "list_investor_count = []\n",
    "\n",
    "for index, row in df_raw3b.iterrows():\n",
    "    #print(type(row['institutional_investors']))\n",
    "    #print(type(row['angels']))\n",
    "    if type(row['institutional_investors']) == list  and type(row['angels']) == list:\n",
    "       list_investors.append(list(row['institutional_investors']) + list(row['angels']))\n",
    "       list_investor_count.append(len(row['institutional_investors'])+len(row['angels'])) \n",
    "      \n",
    "    elif type(row['institutional_investors']) == list and type(row['angels']) != list:\n",
    "      list_investors.append(row['institutional_investors'])\n",
    "      list_investor_count.append(len(row['institutional_investors']))\n",
    "      \n",
    "    elif type(row['institutional_investors']) != list and type(row['angels']) == list:\n",
    "      list_investors.append(row['angels'])\n",
    "      list_investor_count.append(len(row['angels']))\n",
    "      \n",
    "    elif type(row['institutional_investors']) != list and type(row['angels']) != list:\n",
    "      list_investors.append(np.nan)\n",
    "      list_investor_count.append(0)\n",
    "\n",
    "df_raw3b['investors'] = list_investors\n",
    "df_raw3b['num_investors'] = list_investor_count\n",
    "#-------------------------------------------------------------------------#\n",
    "\n",
    "#-----------join the df with the investors and count column-----------#\n",
    "df_raw3 = df_raw3a.join(df_raw3b)\n",
    "#---------------------------------------------------------------------#\n",
    "\n",
    "#-----------------sort rows and reset index-----------------#\n",
    "df_raw3 = df_raw3.sort_values('company_name')\n",
    "df_raw3 = df_raw3.reset_index(drop=True)\n",
    "#-----------------------------------------------------------#\n",
    "\n",
    "#---------------------------fill empty cells and float to int---------------------------#\n",
    "#Clean company_name:\n",
    "df_raw3['company_name'] = df_raw3['company_name'].str.replace(r\"\\(.*\\)\",\"\")\n",
    "df_raw3['company_name'] = df_raw3['company_name'].str.replace(\"ltd.\",\"\")\n",
    "df_raw3['company_name'] = df_raw3['company_name'].str.replace(\"ltd\",\"\")\n",
    "df_raw3['company_name'] = df_raw3['company_name'].str.replace(\"Ltd.\",\"\")\n",
    "df_raw3['company_name'] = df_raw3['company_name'].str.replace(\"Ltd\",\"\")\n",
    "df_raw3['company_name'] = df_raw3['company_name'].str.replace(\"LTD\",\"\")\n",
    "df_raw3['company_name'] = df_raw3['company_name'].str.replace(\"LLC\",\"\")\n",
    "df_raw3['company_name'] = df_raw3['company_name'].str.replace('Limited','')\n",
    "df_raw3['company_name'] = df_raw3['company_name'].str.lower()\n",
    "df_raw3.replace('^\\s+', '', regex=True, inplace=True) #front\n",
    "df_raw3.replace('\\s+$', '', regex=True, inplace=True) #end\n",
    "\n",
    "df_raw3_new_column_company_name_dict = []\n",
    "for i in range(len(df_raw3['company_name'])):\n",
    "    element = df_raw3['company_name'][i]\n",
    "    if df_raw3['company_name'][i] in company_name_dict:\n",
    "        df_raw3_new_column_company_name_dict.append(company_name_dict[element])\n",
    "    else:\n",
    "        df_raw3_new_column_company_name_dict.append(df_raw3['company_name'][i])\n",
    "        \n",
    "df_raw3['company_name'] = df_raw3_new_column_company_name_dict\n",
    "#---------------------------------------------------------------------------------------#\n",
    "\n",
    "#---------------------------Clean twitter_handle:---------------------------#\n",
    "df_raw3_new_column_twitter_dict = []\n",
    "for i in range(len(df_raw3['company_name'])):\n",
    "    element = df_raw3['company_name'][i]\n",
    "    if df_raw3['company_name'][i] in twitter_dict:\n",
    "        df_raw3_new_column_twitter_dict.append(twitter_dict[element])\n",
    "    else:\n",
    "        df_raw3_new_column_twitter_dict.append(df_raw3['twitter_handle'][i])\n",
    "\n",
    "df_raw3['twitter_handle'] = df_raw3_new_column_twitter_dict\n",
    "\n",
    "df_raw3['twitter_handle'] = df_raw3['twitter_handle'].str.replace('http:','')\n",
    "df_raw3['twitter_handle'] = df_raw3['twitter_handle'].str.replace('https:','')\n",
    "df_raw3['twitter_handle'] = df_raw3['twitter_handle'].str.replace('/','')\n",
    "df_raw3['twitter_handle'] = df_raw3['twitter_handle'].str.replace('?','')\n",
    "df_raw3['twitter_handle'] = df_raw3['twitter_handle'].str.replace('www.','')\n",
    "df_raw3['twitter_handle'] = df_raw3['twitter_handle'].str.replace('twitter.com','')\n",
    "df_raw3['twitter_handle'] = df_raw3['twitter_handle'].str.replace('@','')\n",
    "df_raw3['twitter_handle'] = df_raw3['twitter_handle'].str.replace('lang=bg','')\n",
    "df_raw3['twitter_handle'] = df_raw3['twitter_handle'].str.replace('lang=en-gb','')\n",
    "df_raw3['twitter_handle'] = df_raw3['twitter_handle'].str.replace('lang=en','')\n",
    "df_raw3['twitter_handle'] = df_raw3['twitter_handle'].str.replace('lang=ko','')\n",
    "df_raw3['twitter_handle'] = df_raw3['twitter_handle'].str.replace('\\?ref_src=twsrc%5Egoogle%7Ctwcamp%5Eserp%7Ctwgr%5Eauthor','')\n",
    "df_raw3['twitter_handle'] = df_raw3['twitter_handle'].str.replace('searchq=','')\n",
    "df_raw3['twitter_handle'] = df_raw3['twitter_handle'].str.replace('Not Functioning','')\n",
    "df_raw3['twitter_handle'] = df_raw3['twitter_handle'].str.lower()\n",
    "#---------------------------------------------------------------------------------------#\n",
    "\n",
    "#---------------------------Clean website_url:---------------------------#\n",
    "df_raw3_new_column_website_url_dict = []\n",
    "for i in range(len(df_raw3['company_name'])):\n",
    "    element = df_raw3['company_name'][i]\n",
    "    if df_raw3['company_name'][i] in website_url_dict:\n",
    "        df_raw3_new_column_website_url_dict.append(website_url_dict[element])\n",
    "    else:\n",
    "        df_raw3_new_column_website_url_dict.append(df_raw3['website_url'][i])\n",
    "\n",
    "df_raw3['website_url'] = df_raw3_new_column_website_url_dict\n",
    "\n",
    "df_raw3['website_url'] = df_raw3['website_url'].str.replace('http:','')\n",
    "df_raw3['website_url'] = df_raw3['website_url'].str.replace('https:','')\n",
    "df_raw3['website_url'] = df_raw3['website_url'].str.replace('/','')\n",
    "df_raw3['website_url'] = df_raw3['website_url'].str.replace('www.','')\n",
    "#---------------------------------------------------------------------------------------#\n",
    "\n",
    "#---------------------------Clean last_funding_type:---------------------------#\n",
    "df_raw3['last_financing_type'] = df_raw3['last_financing_type'].str.replace(\"Unfunded\",\"Privately Held (no backing)\")\n",
    "df_raw3 = df_raw3.fillna({\n",
    "                          'last_financing_type': np.nan\n",
    "                          })\n",
    "#---------------------------------------------------------------------------------------#\n",
    "\n",
    "#---------------------------Dropper---------------------------#\n",
    "df_raw3_new_column_dropper = []\n",
    "for i in range(len(df_raw3['company_name'])):\n",
    "    element = df_raw3['company_name'][i]\n",
    "    if df_raw3['company_name'][i] in dropper:\n",
    "        df_raw3_new_column_dropper.append(dropper[element])\n",
    "    else:\n",
    "        df_raw3_new_column_dropper.append(df_raw3['dropper'][i])\n",
    "df_raw3['dropper'] = df_raw3_new_column_dropper\n",
    "\n",
    "df_raw3 = df_raw3[df_raw3.dropper != 'inactive']\n",
    "\n",
    "df_raw3 = df_raw3.drop(['overview_tracxn'], axis=1)\n",
    "df_raw3 = df_raw3.drop(['institutional_investors'], axis=1)\n",
    "df_raw3 = df_raw3.drop(['angels'], axis=1)\n",
    "#---------------------------------------------------------------------------------------#\n",
    "\n",
    "#--------------------------------------Drop duplicates:--------------------------------------#\n",
    "df_raw3 = df_raw3.drop_duplicates(subset='company_name', keep=\"first\")\n",
    "#--------------------------------------------------------------------------------------------#\n",
    "\n",
    "#---------------------------fill empty cells and float to int---------------------------#\n",
    "#Clean front and end spaces:\n",
    "df_raw3.replace('^\\s+', '', regex=True, inplace=True) #front\n",
    "df_raw3.replace('\\s+$', '', regex=True, inplace=True) #end\n",
    "#---------------------------------------------------------------------------------------#\n",
    "\n",
    "df_raw3[:10]"
   ]
  },
  {
   "cell_type": "code",
   "execution_count": null,
   "metadata": {
    "colab": {
     "base_uri": "https://localhost:8080/",
     "height": 48
    },
    "colab_type": "code",
    "executionInfo": {
     "elapsed": 141127,
     "status": "ok",
     "timestamp": 1575414794812,
     "user": {
      "displayName": "DISPLAYNAME",
      "photoUrl": "PHOTOURL",
      "userId": "USERID"
     },
     "user_tz": 0
    },
    "id": "pW6I8Xu037_F",
    "outputId": "37ef7112-8c8a-44bc-ef9c-ba085963d0bb"
   },
   "outputs": [],
   "source": [
    "#show entry\n",
    "df_test = df_raw3a.loc[df_raw3a['company_name'] == \"nimbla\"]\n",
    "df_test"
   ]
  },
  {
   "cell_type": "code",
   "execution_count": null,
   "metadata": {
    "colab": {
     "base_uri": "https://localhost:8080/",
     "height": 34
    },
    "colab_type": "code",
    "executionInfo": {
     "elapsed": 141116,
     "status": "ok",
     "timestamp": 1575414794813,
     "user": {
      "displayName": "DISPLAYNAME",
      "photoUrl": "PHOTOURL",
      "userId": "USERID"
     },
     "user_tz": 0
    },
    "id": "ZfQyARiWQOMt",
    "outputId": "ae4cf224-febe-4e5d-c217-9abc03be0ca2"
   },
   "outputs": [],
   "source": [
    "print('We imported ' + '\\033[1m' + str(len(df_raw3.index)) + '\\033[0m' + ' columns and ' + '\\033[1m' + str(len(df_raw3.columns)) + '\\033[0m' + ' rows from the Tracxn_Raw Sheet.')"
   ]
  },
  {
   "cell_type": "code",
   "execution_count": null,
   "metadata": {
    "colab": {},
    "colab_type": "code",
    "id": "nW_MFSPisOSt"
   },
   "outputs": [],
   "source": [
    "df_raw3_duplicate_companies = df_raw3[['company_name']]\n",
    "df_raw3_duplicate_companies = df_raw3[df_raw3_duplicate_companies.isin(df_raw3_duplicate_companies[df_raw3_duplicate_companies.duplicated()])].sort_values('company_name')\n",
    "#delete all the lines where company name is nan\n",
    "df_raw3_duplicate_companies = df_raw3_duplicate_companies.loc[df_raw3_duplicate_companies['dropper'].notnull()]"
   ]
  },
  {
   "cell_type": "code",
   "execution_count": null,
   "metadata": {
    "colab": {
     "base_uri": "https://localhost:8080/",
     "height": 266
    },
    "colab_type": "code",
    "executionInfo": {
     "elapsed": 141100,
     "status": "ok",
     "timestamp": 1575414794814,
     "user": {
      "displayName": "DISPLAYNAME",
      "photoUrl": "PHOTOURL",
      "userId": "USERID"
     },
     "user_tz": 0
    },
    "id": "fZpiuACkzmkF",
    "outputId": "68cbfe82-5674-4239-d66c-e5fc66b704cc"
   },
   "outputs": [],
   "source": [
    "df_raw3.groupby('dropper').count()"
   ]
  },
  {
   "cell_type": "code",
   "execution_count": null,
   "metadata": {
    "colab": {
     "base_uri": "https://localhost:8080/",
     "height": 34
    },
    "colab_type": "code",
    "executionInfo": {
     "elapsed": 141088,
     "status": "ok",
     "timestamp": 1575414794814,
     "user": {
      "displayName": "DISPLAYNAME",
      "photoUrl": "PHOTOURL",
      "userId": "USERID"
     },
     "user_tz": 0
    },
    "id": "-yUbQdOazmJq",
    "outputId": "987faaf6-3622-4074-f940-0a2bbf57f711"
   },
   "outputs": [],
   "source": [
    "df_raw3 = df_raw3[df_raw3.dropper != 'inactive']\n",
    "df_raw3 = df_raw3[df_raw3.dropper != 'late stage']\n",
    "df_raw3 = df_raw3[df_raw3.dropper != 'not ai startup']\n",
    "df_raw3 = df_raw3[df_raw3.dropper != 'acquired']\n",
    "df_raw3 = df_raw3[df_raw3.dropper != 'debtfinance']\n",
    "df_raw3 = df_raw3[df_raw3.dropper != 'PEbacked']\n",
    "df_raw3 = df_raw3[df_raw3.dropper != 'duplicate']\n",
    "\n",
    "print('After dropping we have ' + '\\033[1m' + str(len(df_raw3.index)) + '\\033[0m' + ' companies left in the Traxcn Dataset')"
   ]
  },
  {
   "cell_type": "code",
   "execution_count": null,
   "metadata": {
    "colab": {
     "base_uri": "https://localhost:8080/",
     "height": 297
    },
    "colab_type": "code",
    "executionInfo": {
     "elapsed": 141076,
     "status": "ok",
     "timestamp": 1575414794815,
     "user": {
      "displayName": "DISPLAYNAME",
      "photoUrl": "PHOTOURL",
      "userId": "USERID"
     },
     "user_tz": 0
    },
    "id": "nfo2_wgKWe2Q",
    "outputId": "3abbaace-f8b1-4849-f969-51387beb0c14"
   },
   "outputs": [],
   "source": [
    "df_raw3.groupby('last_financing_type').count()"
   ]
  },
  {
   "cell_type": "code",
   "execution_count": null,
   "metadata": {
    "colab": {
     "base_uri": "https://localhost:8080/",
     "height": 34
    },
    "colab_type": "code",
    "executionInfo": {
     "elapsed": 141064,
     "status": "ok",
     "timestamp": 1575414794815,
     "user": {
      "displayName": "DISPLAYNAME",
      "photoUrl": "PHOTOURL",
      "userId": "USERID"
     },
     "user_tz": 0
    },
    "id": "UZFBGN_wPR6F",
    "outputId": "8e03d1b9-45ae-47d5-9371-f1790b1a7108"
   },
   "outputs": [],
   "source": [
    "#drop late stage\n",
    "df_raw3 = df_raw3[df_raw3.last_financing_type != 'Series E']\n",
    "df_raw3 = df_raw3[df_raw3.last_financing_type != 'Series D']\n",
    "df_raw3 = df_raw3[df_raw3.last_financing_type != 'Series C']\n",
    "df_raw3 = df_raw3[df_raw3.last_financing_type != 'Private Equity']\n",
    "\n",
    "print('After dropping late stage companies we have ' + '\\033[1m' + str(len(df_raw3.index)) + '\\033[0m' + ' companies left in the Tracxn Dataset')"
   ]
  },
  {
   "cell_type": "code",
   "execution_count": null,
   "metadata": {
    "colab": {},
    "colab_type": "code",
    "id": "OcMFAR6Ae1Jp"
   },
   "outputs": [],
   "source": [
    "#df_raw3[df_raw3['company_name'].str.contains(searchword)]"
   ]
  },
  {
   "cell_type": "markdown",
   "metadata": {
    "colab_type": "text",
    "id": "zA5nBjuh_eKi"
   },
   "source": [
    "## 4.3. Load fourth Dataframe"
   ]
  },
  {
   "cell_type": "code",
   "execution_count": null,
   "metadata": {
    "colab": {
     "base_uri": "https://localhost:8080/",
     "height": 797
    },
    "colab_type": "code",
    "executionInfo": {
     "elapsed": 147876,
     "status": "ok",
     "timestamp": 1575414801645,
     "user": {
      "displayName": "DISPLAYNAME",
      "photoUrl": "PHOTOURL",
      "userId": "USERID"
     },
     "user_tz": 0
    },
    "id": "cWlufx4g_jV8",
    "outputId": "51dd0112-a1cd-4155-cbe7-2053ac533c28"
   },
   "outputs": [],
   "source": [
    "df_financing_events = pd.read_excel(base_path + \"Pitchbook_Crunchbase_Tracxn_Raw/Don't touch \" + version_id + \"/\" + version_id + \"_Pitchbook_Crunchbase_Tracxn_Database Crunchbase funding added.xlsx\" , version_id + '_financing_events', skiprows=0)\n",
    "df_financing_events = df_financing_events.rename(index=str, columns={\"Company Name\" : \"company_name\"})\n",
    "\n",
    "#------------------------Clean company_name:------------------------#\n",
    "df_financing_events['company_name'] = df_financing_events['company_name'].str.replace(r\"\\(.*\\)\",\"\")\n",
    "df_financing_events['company_name'] = df_financing_events['company_name'].str.replace(\"ltd.\",\"\")\n",
    "df_financing_events['company_name'] = df_financing_events['company_name'].str.replace(\"ltd\",\"\")\n",
    "df_financing_events['company_name'] = df_financing_events['company_name'].str.replace(\"Ltd.\",\"\")\n",
    "df_financing_events['company_name'] = df_financing_events['company_name'].str.replace(\"Ltd\",\"\")\n",
    "df_financing_events['company_name'] = df_financing_events['company_name'].str.replace(\"LTD\",\"\")\n",
    "df_financing_events['company_name'] = df_financing_events['company_name'].str.replace(\"LLC\",\"\")\n",
    "df_financing_events['company_name'] = df_financing_events['company_name'].str.replace('Limited','')\n",
    "df_financing_events['company_name'] = df_financing_events['company_name'].str.lower()\n",
    "df_financing_events.replace('^\\s+', '', regex=True, inplace=True) #front\n",
    "df_financing_events.replace('\\s+$', '', regex=True, inplace=True) #end\n",
    "\n",
    "df_financing_events_new_column_company_name_dict = []\n",
    "for i in range(len(df_financing_events['company_name'])):\n",
    "    element = df_financing_events['company_name'][i]\n",
    "    if df_financing_events['company_name'][i] in company_name_dict:\n",
    "        df_financing_events_new_column_company_name_dict.append(company_name_dict[element])\n",
    "    else:\n",
    "        df_financing_events_new_column_company_name_dict.append(df_financing_events['company_name'][i])\n",
    "        \n",
    "df_financing_events['company_name'] = df_financing_events_new_column_company_name_dict\n",
    "#-----------------------------------------------------------#\n",
    "\n",
    "#--------------------------------------Dropper:--------------------------------------#\n",
    "df_financing_events['dropper'] = 'active'\n",
    "df_financing_events_new_column_dropper = []\n",
    "for i in range(len(df_financing_events['company_name'])):\n",
    "    element = df_financing_events['company_name'][i]\n",
    "    if df_financing_events['company_name'][i] in dropper:\n",
    "        df_financing_events_new_column_dropper.append(dropper[element])\n",
    "    else:\n",
    "        df_financing_events_new_column_dropper.append(df_financing_events['dropper'][i])\n",
    "df_financing_events['dropper'] = df_financing_events_new_column_dropper\n",
    "\n",
    "df_financing_events = df_financing_events[df_financing_events.dropper != 'inactive']\n",
    "df_financing_events = df_financing_events[df_financing_events.dropper != 'late stage']\n",
    "df_financing_events = df_financing_events[df_financing_events.dropper != 'not ai startup']\n",
    "df_financing_events = df_financing_events[df_financing_events.dropper != 'acquired']\n",
    "df_financing_events = df_financing_events[df_financing_events.dropper != 'debtfinance']\n",
    "df_financing_events = df_financing_events[df_financing_events.dropper != 'PEbacked']\n",
    "df_financing_events = df_financing_events[df_financing_events.dropper != 'duplicate']\n",
    "#-------------------------------------------------------------#\n",
    "\n",
    "print('After dropping we have ' + '\\033[1m' + str(len(df_financing_events.index)) + '\\033[0m' + ' companies left in the Events Dataset')\n",
    "df_financing_events.head()"
   ]
  },
  {
   "cell_type": "markdown",
   "metadata": {
    "colab_type": "text",
    "id": "SRUedRgpMEVY"
   },
   "source": [
    "## Events during study"
   ]
  },
  {
   "cell_type": "code",
   "execution_count": null,
   "metadata": {
    "colab": {
     "base_uri": "https://localhost:8080/",
     "height": 221
    },
    "colab_type": "code",
    "executionInfo": {
     "elapsed": 154331,
     "status": "ok",
     "timestamp": 1575414808114,
     "user": {
      "displayName": "DISPLAYNAME",
      "photoUrl": "PHOTOURL",
      "userId": "USERID"
     },
     "user_tz": 0
    },
    "id": "NJgmVTUsMGDa",
    "outputId": "0e0e5311-4ed0-479d-e9bc-e1418cb8cf18"
   },
   "outputs": [],
   "source": [
    "df_during_survey_events = pd.read_excel(base_path + \"Pitchbook_Crunchbase_Tracxn_Raw/Don't touch \" + version_id + \"/\" + version_id + \"_Pitchbook_Crunchbase_Tracxn_Database Crunchbase funding added.xlsx\" , version_id + '_event', skiprows=0, usecols=\"A, B, D\")\n",
    "df_during_survey_events = df_during_survey_events[df_during_survey_events['event_type'].notnull()]\n",
    "df_during_survey_events = df_during_survey_events[(df_during_survey_events['event_type'] != \"twitter down\")]\n",
    "df_during_survey_events.reset_index(drop=True, inplace=True)\n",
    "print(df_during_survey_events.shape)\n",
    "df_during_survey_events.head()"
   ]
  },
  {
   "cell_type": "code",
   "execution_count": null,
   "metadata": {
    "colab": {
     "base_uri": "https://localhost:8080/",
     "height": 419
    },
    "colab_type": "code",
    "executionInfo": {
     "elapsed": 154319,
     "status": "ok",
     "timestamp": 1575414808115,
     "user": {
      "displayName": "DISPLAYNAME",
      "photoUrl": "PHOTOURL",
      "userId": "USERID"
     },
     "user_tz": 0
    },
    "id": "sXbTQpcLO36s",
    "outputId": "ebf0015e-fc7c-4562-e31d-bdb6d5d30c3f"
   },
   "outputs": [],
   "source": [
    "survey_start_date = datetime.datetime(2018, 11, 12) # one day before actual date was 2018, 11, 13\n",
    "survey_end_date = datetime.datetime(2019, 6, 3) # one after before actual date was 2019, 6, 2\n",
    "df_during_survey_events = df_during_survey_events[(df_during_survey_events['event_date'] > survey_start_date) & (df_during_survey_events['event_date'] < survey_end_date)]\n",
    "df_during_survey_events"
   ]
  },
  {
   "cell_type": "markdown",
   "metadata": {
    "colab_type": "text",
    "id": "O0Y1JK_SRvp9"
   },
   "source": [
    "##4.4. Compare companies in Dataframes"
   ]
  },
  {
   "cell_type": "code",
   "execution_count": null,
   "metadata": {
    "colab": {
     "base_uri": "https://localhost:8080/",
     "height": 379
    },
    "colab_type": "code",
    "executionInfo": {
     "elapsed": 154307,
     "status": "ok",
     "timestamp": 1575414808116,
     "user": {
      "displayName": "DISPLAYNAME",
      "photoUrl": "PHOTOURL",
      "userId": "USERID"
     },
     "user_tz": 0
    },
    "id": "X9_aNLPMRe5L",
    "outputId": "2f005428-985c-4a14-e4ae-e61f990e7d44"
   },
   "outputs": [],
   "source": [
    "df_raw1_company_name = df_raw1[['company_name']]\n",
    "df_raw1_company_name[:10]"
   ]
  },
  {
   "cell_type": "code",
   "execution_count": null,
   "metadata": {
    "colab": {
     "base_uri": "https://localhost:8080/",
     "height": 413
    },
    "colab_type": "code",
    "executionInfo": {
     "elapsed": 154303,
     "status": "ok",
     "timestamp": 1575414808117,
     "user": {
      "displayName": "DISPLAYNAME",
      "photoUrl": "PHOTOURL",
      "userId": "USERID"
     },
     "user_tz": 0
    },
    "id": "g6LwmPL0Rhua",
    "outputId": "8dc22d82-82d4-47b2-d83f-eae95ea50d66"
   },
   "outputs": [],
   "source": [
    "df_raw2_company_name = df_raw2[['company_name']]\n",
    "df_raw2_company_name[:10]"
   ]
  },
  {
   "cell_type": "code",
   "execution_count": null,
   "metadata": {
    "colab": {
     "base_uri": "https://localhost:8080/",
     "height": 396
    },
    "colab_type": "code",
    "executionInfo": {
     "elapsed": 154298,
     "status": "ok",
     "timestamp": 1575414808117,
     "user": {
      "displayName": "DISPLAYNAME",
      "photoUrl": "PHOTOURL",
      "userId": "USERID"
     },
     "user_tz": 0
    },
    "id": "knDHfd5XRmN9",
    "outputId": "5872eb7a-6ff4-4dfa-b501-e5b93df0cb86"
   },
   "outputs": [],
   "source": [
    "df_raw3_company_name = df_raw3[['company_name']]\n",
    "df_raw3_company_name[:10]"
   ]
  },
  {
   "cell_type": "markdown",
   "metadata": {
    "colab_type": "text",
    "id": "WiMN7lBExv0r"
   },
   "source": [
    "#5. Merge dataframes and find duplicates\n"
   ]
  },
  {
   "cell_type": "code",
   "execution_count": null,
   "metadata": {
    "colab": {
     "base_uri": "https://localhost:8080/",
     "height": 326
    },
    "colab_type": "code",
    "executionInfo": {
     "elapsed": 154294,
     "status": "ok",
     "timestamp": 1575414808118,
     "user": {
      "displayName": "DISPLAYNAME",
      "photoUrl": "PHOTOURL",
      "userId": "USERID"
     },
     "user_tz": 0
    },
    "id": "a0Vvifc7Sjac",
    "outputId": "9e16e2ee-cd69-49e1-bd8f-23be864a2d81"
   },
   "outputs": [],
   "source": [
    "raw1_company_name_list = df_raw1_company_name['company_name'].tolist()\n",
    "print('\\033[1m' + 'Pitchbook' + '\\033[0m') \n",
    "print(raw1_company_name_list)\n",
    "raw2_company_name_list = df_raw2_company_name['company_name'].tolist()\n",
    "print('\\033[1m' + 'Crunchbase' + '\\033[0m') \n",
    "print(raw2_company_name_list)\n",
    "raw3_company_name_list = df_raw3_company_name['company_name'].tolist()\n",
    "print('\\033[1m' + 'Traxcn' + '\\033[0m') \n",
    "print(raw3_company_name_list)\n",
    "\n",
    "print('\\033[1m' + 'In Pitchbook but missing in Traxcn' + '\\033[0m') \n",
    "in_pitchbook_but_not_in_traxcn = [x for x in raw1_company_name_list if x not in raw3_company_name_list]\n",
    "print(len(in_pitchbook_but_not_in_traxcn))\n",
    "print(in_pitchbook_but_not_in_traxcn)\n",
    "\n",
    "print('\\033[1m' + 'In Crunchbase but missing in Traxcn' + '\\033[0m')\n",
    "in_crunchbase_but_not_in_traxcn = [x for x in raw2_company_name_list if x not in raw3_company_name_list]\n",
    "print(len(in_crunchbase_but_not_in_traxcn))\n",
    "print(in_crunchbase_but_not_in_traxcn)\n",
    "\n",
    "print('\\033[1m' + 'In Crunchbase and in Pitchbook but missing in Traxcn' + '\\033[0m')\n",
    "cross_covered = set(in_pitchbook_but_not_in_traxcn)&set(in_crunchbase_but_not_in_traxcn)\n",
    "print(len(cross_covered))\n",
    "print(cross_covered)\n",
    "\n",
    "print('\\033[1m' + 'Hence, adding Traxcn brings ' + str(len(in_crunchbase_but_not_in_traxcn)+len(in_pitchbook_but_not_in_traxcn)-len(cross_covered)*2) + ' true new entries' + '\\033[0m)')\n",
    "\n",
    "all_list = raw1_company_name_list + raw2_company_name_list + raw3_company_name_list\n",
    "print('\\033[1m' + 'All entries after filtering amount to: ' + str(len(all_list)))"
   ]
  },
  {
   "cell_type": "markdown",
   "metadata": {
    "colab_type": "text",
    "id": "OdN2-IBIM7UT"
   },
   "source": [
    "##5.1 Concatenate"
   ]
  },
  {
   "cell_type": "code",
   "execution_count": null,
   "metadata": {
    "colab": {
     "base_uri": "https://localhost:8080/",
     "height": 1000
    },
    "colab_type": "code",
    "executionInfo": {
     "elapsed": 154279,
     "status": "ok",
     "timestamp": 1575414808118,
     "user": {
      "displayName": "DISPLAYNAME",
      "photoUrl": "PHOTOURL",
      "userId": "USERID"
     },
     "user_tz": 0
    },
    "id": "XqzWCGFxM6kf",
    "outputId": "a9096d6a-a5e5-40d9-90a7-655791482833"
   },
   "outputs": [],
   "source": [
    "df_all = pd.concat([df_raw1, df_raw2, df_raw3])\n",
    "\n",
    "#---------------------------fill empty cells and float to int---------------------------#\n",
    "df_all['num_articles'] = df_all['num_articles'].fillna(0).astype(int)\n",
    "df_all['num_rounds'] = df_all['num_rounds'].fillna(0).astype(int)\n",
    "df_all['total_raised'] = df_all['total_raised'].fillna(0).astype(int)\n",
    "df_all['num_investors'] = df_all['num_investors'].fillna(0).astype(int)\n",
    "df_all['num_events'] = df_all['num_events'].fillna(0).astype(int)\n",
    "df_all['num_investors'] = df_all['num_investors'].fillna(0).astype(int)\n",
    "#df_all['first_financing_valuation'] = df_all['first_financing_valuation'].fillna(0).astype(int)\n",
    "#df_all['first_financing_size'] = df_all['first_financing_size'].fillna(0).astype(int)\n",
    "#df_all['last_financing_valuation'] = df_all['last_financing_valuation'].fillna(0).astype(int)\n",
    "#df_all['last_known_valuation'] = df_all['last_known_valuation'].fillna(0).astype(int)\n",
    "#---------------------------------------------------------------------------------------#\n",
    "\n",
    "#-----------------sort rows and reset index-----------------#\n",
    "df_all = df_all.sort_values('company_name')\n",
    "df_all.reset_index(drop=True, inplace=True)\n",
    "#-----------------------------------------------------------#\n",
    "\n",
    "\n",
    "df_all = df_all[['company_name', 'desc', 'founded_date', 'hq_city', 'industry_verticals', 'investors', 'is_funded', 'last_financing_date', 'last_financing_type', 'num_articles', 'num_events', 'num_investors', 'num_rounds', 'total_raised', 'twitter_handle', 'website_url','dropper','source','database_url','snap_date']]\n",
    "\n",
    "\n",
    "df_all[:10]\n"
   ]
  },
  {
   "cell_type": "code",
   "execution_count": null,
   "metadata": {
    "colab": {
     "base_uri": "https://localhost:8080/",
     "height": 54
    },
    "colab_type": "code",
    "executionInfo": {
     "elapsed": 154275,
     "status": "ok",
     "timestamp": 1575414808119,
     "user": {
      "displayName": "DISPLAYNAME",
      "photoUrl": "PHOTOURL",
      "userId": "USERID"
     },
     "user_tz": 0
    },
    "id": "s_6aEYL4Wkj4",
    "outputId": "18805000-446b-4fe6-ad95-ee7f3ac0bc0c"
   },
   "outputs": [],
   "source": [
    "print('In total, we have ' + '\\033[1m' + str(len(df_all.index)) + '\\033[0m' + ' datasets.')"
   ]
  },
  {
   "cell_type": "code",
   "execution_count": null,
   "metadata": {
    "colab": {},
    "colab_type": "code",
    "id": "G34i32u9a6xj"
   },
   "outputs": [],
   "source": [
    "# df_all[(df_all['company_name'] == \"causa lens\")]"
   ]
  },
  {
   "cell_type": "markdown",
   "metadata": {
    "colab_type": "text",
    "id": "SnP_IwxgFnJv"
   },
   "source": [
    "### Stages"
   ]
  },
  {
   "cell_type": "code",
   "execution_count": null,
   "metadata": {
    "colab": {
     "base_uri": "https://localhost:8080/",
     "height": 1000
    },
    "colab_type": "code",
    "executionInfo": {
     "elapsed": 154549,
     "status": "ok",
     "timestamp": 1575414808405,
     "user": {
      "displayName": "DISPLAYNAME",
      "photoUrl": "PHOTOURL",
      "userId": "USERID"
     },
     "user_tz": 0
    },
    "id": "ZjVGhvRsFkFy",
    "outputId": "e4c19b37-108c-41e2-d32c-c95da1325e9c"
   },
   "outputs": [],
   "source": [
    "df_all.groupby('last_financing_type').count()"
   ]
  },
  {
   "cell_type": "markdown",
   "metadata": {
    "colab_type": "text",
    "id": "ozSvlnHqM-E1"
   },
   "source": [
    "##5.2 Find, count, and remove duplicates"
   ]
  },
  {
   "cell_type": "markdown",
   "metadata": {
    "colab_type": "text",
    "id": "sreIfYovrePW"
   },
   "source": [
    "Duplicates datasets"
   ]
  },
  {
   "cell_type": "code",
   "execution_count": null,
   "metadata": {
    "colab": {
     "base_uri": "https://localhost:8080/",
     "height": 957
    },
    "colab_type": "code",
    "executionInfo": {
     "elapsed": 154542,
     "status": "ok",
     "timestamp": 1575414808405,
     "user": {
      "displayName": "DISPLAYNAME",
      "photoUrl": "PHOTOURL",
      "userId": "USERID"
     },
     "user_tz": 0
    },
    "id": "KeHlUJ4rBQtj",
    "outputId": "5ccb64a0-eaba-4181-9935-2b5403df7091"
   },
   "outputs": [],
   "source": [
    "df_company_duplicates = df_all[\"company_name\"]\n",
    "df_company_duplicates = df_all[df_company_duplicates.isin(df_company_duplicates[df_company_duplicates.duplicated()])].sort_values(\"company_name\")\n",
    "df_company_duplicates[:10]"
   ]
  },
  {
   "cell_type": "code",
   "execution_count": null,
   "metadata": {
    "colab": {
     "base_uri": "https://localhost:8080/",
     "height": 34
    },
    "colab_type": "code",
    "executionInfo": {
     "elapsed": 154530,
     "status": "ok",
     "timestamp": 1575414808406,
     "user": {
      "displayName": "DISPLAYNAME",
      "photoUrl": "PHOTOURL",
      "userId": "USERID"
     },
     "user_tz": 0
    },
    "id": "JwoNEEuVn334",
    "outputId": "c9ba9deb-fdaa-4431-ac66-1b07ced6a60a"
   },
   "outputs": [],
   "source": [
    "df_company_duplicates.groupby('company_name').count()\n",
    "print('We have ' + '\\033[1m' + str(len(df_company_duplicates.index)) + '\\033[0m' + ' duplicate datasets.')"
   ]
  },
  {
   "cell_type": "markdown",
   "metadata": {
    "colab_type": "text",
    "id": "VQbzJDgDwGT6"
   },
   "source": [
    "How many non duplicate datasets?"
   ]
  },
  {
   "cell_type": "code",
   "execution_count": null,
   "metadata": {
    "colab": {
     "base_uri": "https://localhost:8080/",
     "height": 34
    },
    "colab_type": "code",
    "executionInfo": {
     "elapsed": 154519,
     "status": "ok",
     "timestamp": 1575414808407,
     "user": {
      "displayName": "DISPLAYNAME",
      "photoUrl": "PHOTOURL",
      "userId": "USERID"
     },
     "user_tz": 0
    },
    "id": "2wNdRwNzwGgA",
    "outputId": "3956f052-ab49-415e-f75c-7605905123a1"
   },
   "outputs": [],
   "source": [
    "df_company_no_duplicates = df_all.drop_duplicates('company_name')\n",
    "print('We have ' + '\\033[1m' + str(len(df_company_no_duplicates.index)) + '\\033[0m' + ' non-duplicate datasets.')"
   ]
  },
  {
   "cell_type": "markdown",
   "metadata": {
    "colab_type": "text",
    "id": "JKghFDLIBRJV"
   },
   "source": [
    "##Which dataset twitter handles are duplicates?"
   ]
  },
  {
   "cell_type": "markdown",
   "metadata": {
    "colab_type": "text",
    "id": "kU5cQX70bIPY"
   },
   "source": [
    "Duplicates in company_name with different twitter_handle (SHOULD BE EMPTY)"
   ]
  },
  {
   "cell_type": "code",
   "execution_count": null,
   "metadata": {
    "colab": {
     "base_uri": "https://localhost:8080/",
     "height": 940
    },
    "colab_type": "code",
    "executionInfo": {
     "elapsed": 154506,
     "status": "ok",
     "timestamp": 1575414808407,
     "user": {
      "displayName": "DISPLAYNAME",
      "photoUrl": "PHOTOURL",
      "userId": "USERID"
     },
     "user_tz": 0
    },
    "id": "wV_cpYdDrfEQ",
    "outputId": "ca5e32cc-9787-4d6f-f854-06cc555b88f8"
   },
   "outputs": [],
   "source": [
    "df_unique_handles = df_all.drop_duplicates('twitter_handle')\n",
    "df_duplicates_different_handles = df_unique_handles['company_name']\n",
    "df_duplicates_different_handles = df_unique_handles[df_duplicates_different_handles.isin(df_duplicates_different_handles[df_duplicates_different_handles.duplicated()])].sort_values(\"company_name\")\n",
    "df_duplicates_different_handles"
   ]
  },
  {
   "cell_type": "markdown",
   "metadata": {
    "colab_type": "text",
    "id": "46GC7YaN69eH"
   },
   "source": [
    "Duplicates in twitter_handle with different company_name (SHOULD BE EMPTY)"
   ]
  },
  {
   "cell_type": "code",
   "execution_count": null,
   "metadata": {
    "colab": {},
    "colab_type": "code",
    "id": "axN3N9wx66aW"
   },
   "outputs": [],
   "source": [
    "#df_unique_companies = df_all.drop_duplicates('company_name')\n",
    "#df_unique_companies = df_unique_companies['twitter_handle'].dropna(axis='twitter_handle')\n",
    "#df_duplicates_different_company_names = df_unique_companies['twitter_handle']\n",
    "#df_duplicates_different_company_names = df_unique_companies[df_duplicates_different_company_names.isin(df_duplicates_different_company_names[df_duplicates_different_company_names.duplicated()])].sort_values(\"company_name\")\n",
    "#df_duplicates_different_company_names"
   ]
  },
  {
   "cell_type": "markdown",
   "metadata": {
    "colab_type": "text",
    "id": "9E-cjkq_bOlw"
   },
   "source": [
    "##twitter_handle\n",
    "##Make one table without duplictates in twitter and prioritise existing handles over NaN"
   ]
  },
  {
   "cell_type": "markdown",
   "metadata": {
    "colab_type": "text",
    "id": "1bNGUxDRbhJF"
   },
   "source": [
    "Df without NaN and no company duplicates"
   ]
  },
  {
   "cell_type": "code",
   "execution_count": null,
   "metadata": {
    "colab": {
     "base_uri": "https://localhost:8080/",
     "height": 598
    },
    "colab_type": "code",
    "executionInfo": {
     "elapsed": 154497,
     "status": "ok",
     "timestamp": 1575414808408,
     "user": {
      "displayName": "DISPLAYNAME",
      "photoUrl": "PHOTOURL",
      "userId": "USERID"
     },
     "user_tz": 0
    },
    "id": "-aXG4TtRsObx",
    "outputId": "940bb9e7-7347-4b71-be46-e2b8580e70ee"
   },
   "outputs": [],
   "source": [
    "df_without_nan = df_all.dropna(subset=['twitter_handle'])\n",
    "df_without_nan = df_without_nan.drop_duplicates('company_name')   \n",
    "df_without_nan.reset_index(drop=True, inplace=True)\n",
    "df_without_nan[:5]                       "
   ]
  },
  {
   "cell_type": "markdown",
   "metadata": {
    "colab_type": "text",
    "id": "NbWliyhfbcdi"
   },
   "source": [
    "Df with NaN and no company duplicates"
   ]
  },
  {
   "cell_type": "code",
   "execution_count": null,
   "metadata": {
    "colab": {
     "base_uri": "https://localhost:8080/",
     "height": 530
    },
    "colab_type": "code",
    "executionInfo": {
     "elapsed": 154743,
     "status": "ok",
     "timestamp": 1575414808659,
     "user": {
      "displayName": "DISPLAYNAME",
      "photoUrl": "PHOTOURL",
      "userId": "USERID"
     },
     "user_tz": 0
    },
    "id": "0btBoy2dsOEU",
    "outputId": "ea58ad62-25b4-48ef-e959-ba703a022a84"
   },
   "outputs": [],
   "source": [
    "df_with_nan = df_all[df_all['twitter_handle'].isnull()]\n",
    "df_with_nan = df_with_nan.drop_duplicates('company_name')                 \n",
    "df_with_nan.reset_index(drop=True, inplace=True)\n",
    "df_with_nan[:5]                       "
   ]
  },
  {
   "cell_type": "markdown",
   "metadata": {
    "colab_type": "text",
    "id": "ydrWY7L9aqxd"
   },
   "source": [
    "Combined not_nan and with_nan to remove duplicates"
   ]
  },
  {
   "cell_type": "code",
   "execution_count": null,
   "metadata": {
    "colab": {
     "base_uri": "https://localhost:8080/",
     "height": 1000
    },
    "colab_type": "code",
    "executionInfo": {
     "elapsed": 154739,
     "status": "ok",
     "timestamp": 1575414808660,
     "user": {
      "displayName": "DISPLAYNAME",
      "photoUrl": "PHOTOURL",
      "userId": "USERID"
     },
     "user_tz": 0
    },
    "id": "aqQ3PU-uaqZa",
    "outputId": "5d73d382-d0b8-46a5-e829-e92c4ec20f34"
   },
   "outputs": [],
   "source": [
    "df_concat_twitter = pd.concat([df_without_nan, df_with_nan])\n",
    "df_concat_twitter = df_concat_twitter.drop_duplicates('company_name')   \n",
    "df_concat_twitter[:10]"
   ]
  },
  {
   "cell_type": "code",
   "execution_count": null,
   "metadata": {
    "colab": {
     "base_uri": "https://localhost:8080/",
     "height": 1000
    },
    "colab_type": "code",
    "executionInfo": {
     "elapsed": 154734,
     "status": "ok",
     "timestamp": 1575414808661,
     "user": {
      "displayName": "DISPLAYNAME",
      "photoUrl": "PHOTOURL",
      "userId": "USERID"
     },
     "user_tz": 0
    },
    "id": "tzNsr6-yvXZH",
    "outputId": "4dff0d00-e666-47a4-966c-0a609048a69d"
   },
   "outputs": [],
   "source": [
    "df_twitter_handle_scrape = df_concat_twitter.drop_duplicates('twitter_handle')       \n",
    "df_twitter_handle_scrape[:10]"
   ]
  },
  {
   "cell_type": "code",
   "execution_count": null,
   "metadata": {
    "colab": {
     "base_uri": "https://localhost:8080/",
     "height": 54
    },
    "colab_type": "code",
    "executionInfo": {
     "elapsed": 154730,
     "status": "ok",
     "timestamp": 1575414808661,
     "user": {
      "displayName": "DISPLAYNAME",
      "photoUrl": "PHOTOURL",
      "userId": "USERID"
     },
     "user_tz": 0
    },
    "id": "ewa2GyJbggUs",
    "outputId": "84d7cb96-50b1-4c57-a791-52147948dd53"
   },
   "outputs": [],
   "source": [
    "print('We have identified ' + '\\033[1m' + str(len(df_twitter_handle_scrape.index)) + '\\033[0m' + ' duplicate Twitter Handles. Unfortunately, ' + '\\033[1m' + str(len(df_company_no_duplicates.index)-len(df_twitter_handle_scrape.index)) + '\\033[0m' + ' have no or defect twitter_handle.')"
   ]
  },
  {
   "cell_type": "markdown",
   "metadata": {
    "colab_type": "text",
    "id": "oPZN3TGWaK3j"
   },
   "source": [
    "WRONG NaNs to adress in Tracxn dataset"
   ]
  },
  {
   "cell_type": "code",
   "execution_count": null,
   "metadata": {
    "colab": {
     "base_uri": "https://localhost:8080/",
     "height": 1000
    },
    "colab_type": "code",
    "executionInfo": {
     "elapsed": 154932,
     "status": "ok",
     "timestamp": 1575414808872,
     "user": {
      "displayName": "DISPLAYNAME",
      "photoUrl": "PHOTOURL",
      "userId": "USERID"
     },
     "user_tz": 0
    },
    "id": "72GwSbUtaKnK",
    "outputId": "18c5545d-9d12-45f3-be6d-d33db6e19579"
   },
   "outputs": [],
   "source": [
    "#define which one to search for, toggle off others:\n",
    "#database_search = 'PitchBook Research'\n",
    "#database_search = 'Crunchbase'\n",
    "database_search = 'Tracxn'\n",
    "df_database_with_nan = df_concat_twitter[df_concat_twitter['twitter_handle'].isnull()]\n",
    "df_database_with_nan = df_database_with_nan[df_database_with_nan['source'] == database_search]\n",
    "df_database_with_nan[:50]"
   ]
  },
  {
   "cell_type": "code",
   "execution_count": null,
   "metadata": {
    "colab": {},
    "colab_type": "code",
    "id": "zDlrCqPHyPsL"
   },
   "outputs": [],
   "source": [
    "#print('We have to check ' + '\\033[1m' + str(len(df_Tracxn_with_nan.index)) + '\\033[0m' + ' company_name in Tracxn.')"
   ]
  },
  {
   "cell_type": "code",
   "execution_count": null,
   "metadata": {
    "colab": {
     "base_uri": "https://localhost:8080/",
     "height": 379
    },
    "colab_type": "code",
    "executionInfo": {
     "elapsed": 154920,
     "status": "ok",
     "timestamp": 1575414808873,
     "user": {
      "displayName": "DISPLAYNAME",
      "photoUrl": "PHOTOURL",
      "userId": "USERID"
     },
     "user_tz": 0
    },
    "id": "_Ydm2vnYyDrz",
    "outputId": "07bf88ab-f707-4951-b971-043863a5da11"
   },
   "outputs": [],
   "source": [
    "df_website_url_scrape = df_all[['company_name', 'website_url']].drop_duplicates('website_url')\n",
    "df_website_url_scrape[:10]"
   ]
  },
  {
   "cell_type": "markdown",
   "metadata": {
    "colab_type": "text",
    "id": "AAmwAeas2aXx"
   },
   "source": [
    "##website_url"
   ]
  },
  {
   "cell_type": "code",
   "execution_count": null,
   "metadata": {
    "colab": {
     "base_uri": "https://localhost:8080/",
     "height": 54
    },
    "colab_type": "code",
    "executionInfo": {
     "elapsed": 154915,
     "status": "ok",
     "timestamp": 1575414808873,
     "user": {
      "displayName": "DISPLAYNAME",
      "photoUrl": "PHOTOURL",
      "userId": "USERID"
     },
     "user_tz": 0
    },
    "id": "UzYHFNS82UEg",
    "outputId": "863f69bd-d8ed-4855-b29e-62cedf890d4b"
   },
   "outputs": [],
   "source": [
    "print('We have identified ' + '\\033[1m' + str(len(df_website_url_scrape.index)) + '\\033[0m' + ' Website URLs to scrape.')"
   ]
  },
  {
   "cell_type": "markdown",
   "metadata": {
    "colab_type": "text",
    "id": "t2ufHM8Y9lzk"
   },
   "source": [
    "Which websites are different for the same company"
   ]
  },
  {
   "cell_type": "code",
   "execution_count": null,
   "metadata": {
    "colab": {
     "base_uri": "https://localhost:8080/",
     "height": 284
    },
    "colab_type": "code",
    "executionInfo": {
     "elapsed": 154911,
     "status": "ok",
     "timestamp": 1575414808874,
     "user": {
      "displayName": "DISPLAYNAME",
      "photoUrl": "PHOTOURL",
      "userId": "USERID"
     },
     "user_tz": 0
    },
    "id": "p-gwE1vN9leJ",
    "outputId": "67bf50ae-a515-4c01-8700-fb94681dcb34"
   },
   "outputs": [],
   "source": [
    "df_unique_websites = df_all.drop_duplicates('website_url')\n",
    "df_duplicates_different_websites = df_unique_websites['company_name']\n",
    "df_duplicates_different_websites = df_unique_websites[df_duplicates_different_websites.isin(df_duplicates_different_websites[df_duplicates_different_websites.duplicated()])].sort_values(\"company_name\")\n",
    "df_duplicates_different_websites"
   ]
  },
  {
   "cell_type": "markdown",
   "metadata": {
    "colab_type": "text",
    "id": "Yvfto7mikt58"
   },
   "source": [
    "#<p><font color=\"red\">Search in resulting df</font></p>"
   ]
  },
  {
   "cell_type": "code",
   "execution_count": null,
   "metadata": {
    "colab": {},
    "colab_type": "code",
    "id": "NbXC3BV7k3lg"
   },
   "outputs": [],
   "source": [
    "#df_all[df_all['company_name'].str.contains(\"hestia\")]"
   ]
  },
  {
   "cell_type": "markdown",
   "metadata": {
    "colab_type": "text",
    "id": "1F2YFAz4dvLh"
   },
   "source": [
    "#4. Save results"
   ]
  },
  {
   "cell_type": "code",
   "execution_count": null,
   "metadata": {
    "colab": {},
    "colab_type": "code",
    "id": "OB2rkTm0duiO"
   },
   "outputs": [],
   "source": [
    "base_path + \"Pitchbook_Crunchbase_Tracxn_Raw/Don't touch \" + version_id + \"/\"\n",
    "\n",
    "with pd.ExcelWriter(base_path + \"Pitchbook_Crunchbase_Tracxn_Raw/Don't touch \" + version_id + \"/\" + version_id + '.xlsx') as writer:\n",
    "  df_raw1.to_excel(writer, sheet_name= version_id +\"df_raw1\", index=False)\n",
    "  df_raw2.to_excel(writer, sheet_name= version_id +\"df_raw2\", index=False)\n",
    "  df_raw3.to_excel(writer, sheet_name= version_id +\"df_raw3\", index=False)\n",
    "  df_all.to_excel(writer, sheet_name= version_id +\"df_all\", index=False)\n",
    "  df_twitter_handle_scrape.to_excel(writer, sheet_name= version_id + \"twitter_handle_scrape\", index=False)\n",
    "  df_website_url_scrape.to_excel(writer, sheet_name= version_id + \"website_url_scrape\", index=False)\n",
    "  df_duplicates_different_handles.to_excel(writer, sheet_name= version_id + \"dupl_different_handles\", index=False)\n",
    "  df_duplicates_different_websites.to_excel(writer, sheet_name= version_id + \"dupl_different_websites\", index=False)\n",
    "  df_financing_events.to_excel(writer, sheet_name= version_id + \"financing_events\", index=False)\n",
    "  df_during_survey_events.to_excel(writer, sheet_name= version_id + \"during_survey_events\", index=False)\n",
    "  \n",
    "  df_twitter_handle_dict.to_excel(writer, sheet_name= version_id +\"df_twitter_handle_dict\", index=False)\n",
    "  df_company_name_dict.to_excel(writer, sheet_name= version_id +\"df_company_name_dict\", index=False)\n",
    "  df_website_url_dict.to_excel(writer, sheet_name= version_id +\"df_website_url_dict\", index=False)\n",
    "  df_dropper.to_excel(writer, sheet_name= version_id +\"df_dropper\", index=False)\n",
    "  \n",
    "  "
   ]
  }
 ],
 "metadata": {
  "colab": {
   "collapsed_sections": [
    "HjlQ7kzWHG3b",
    "EtDZGyHseWJn",
    "O0Y1JK_SRvp9",
    "OdN2-IBIM7UT",
    "SnP_IwxgFnJv",
    "JKghFDLIBRJV",
    "9E-cjkq_bOlw",
    "AAmwAeas2aXx",
    "Yvfto7mikt58",
    "1F2YFAz4dvLh"
   ],
   "name": "V14_Merge Dataframes 2019-12-03.ipynb",
   "provenance": [
    {
     "file_id": "1oRZR4hRd-lbP7PuYOQ3gXko7LyajAnBT",
     "timestamp": 1571240013318
    },
    {
     "file_id": "15QRBSbcrYpbewz8myHQOoCd4-nKqhASZ",
     "timestamp": 1566404796401
    },
    {
     "file_id": "1-9kxDMgceweRGl_zIGHvnTcwMlzomODH",
     "timestamp": 1556205592533
    },
    {
     "file_id": "1mTryAvLavFvas33kPBgT19iNTwQNxh_u",
     "timestamp": 1553178425626
    },
    {
     "file_id": "1U5MCYMX_5UhDolckQ-BnSS7Uh6dBgdlj",
     "timestamp": 1551880685493
    },
    {
     "file_id": "15BWsYFK0N56rOxhvo1j1fq6NPqwD76vY",
     "timestamp": 1550073111513
    },
    {
     "file_id": "1OxM3t0c52RUjuJ-xZlWmsq7Mvc1EcLAB",
     "timestamp": 1548687077019
    },
    {
     "file_id": "12OObFs1VNchNjs8g9fxzeUWQrOy51zZ4",
     "timestamp": 1546858641805
    },
    {
     "file_id": "19-ucU5SBwcSj7h61p0kcQlf4LtS5_aAX",
     "timestamp": 1546686005658
    },
    {
     "file_id": "1wccFM7_j9wj6KAE98y4WwP5Odh2bMrDE",
     "timestamp": 1545226420317
    },
    {
     "file_id": "17P21SSPpWdSKRLA6EyGcnumWfiCtgBgb",
     "timestamp": 1543846949443
    },
    {
     "file_id": "1VsiYPq87rURsmH6RIfUV4D2L_YZp8_Xe",
     "timestamp": 1542661377912
    },
    {
     "file_id": "18Dwh_R17EFSGaRhWnL5bXPzK2Z-pELlq",
     "timestamp": 1542399656381
    },
    {
     "file_id": "1nz8j09wBKGpJc9bNPMmklKpdpf4Ab0Qh",
     "timestamp": 1542116840823
    },
    {
     "file_id": "1hGumty8VJfu3sl24XuWhxVFyIl1qQClb",
     "timestamp": 1541719952114
    },
    {
     "file_id": "1HtN33Tuoq0aOlfrBHbFPQj7tLrAcDrOu",
     "timestamp": 1541677310940
    },
    {
     "file_id": "16S7Y35sm3lofM8vd6K5BWbPbE41YXUeg",
     "timestamp": 1541608377363
    },
    {
     "file_id": "19H-OHLrIYEwpS15Oi04UJx2vyEBtbDn4",
     "timestamp": 1541433996850
    },
    {
     "file_id": "1ZSXQLJuZ34-X8EdpxZWnWlhkS5ehaKiQ",
     "timestamp": 1541161347379
    }
   ]
  },
  "kernelspec": {
   "display_name": "Python 3",
   "language": "python",
   "name": "python3"
  },
  "language_info": {
   "codemirror_mode": {
    "name": "ipython",
    "version": 3
   },
   "file_extension": ".py",
   "mimetype": "text/x-python",
   "name": "python",
   "nbconvert_exporter": "python",
   "pygments_lexer": "ipython3",
   "version": "3.6.5"
  }
 },
 "nbformat": 4,
 "nbformat_minor": 1
}
